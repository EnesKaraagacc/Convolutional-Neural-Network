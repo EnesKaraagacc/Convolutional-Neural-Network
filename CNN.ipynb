{
 "cells": [
  {
   "cell_type": "markdown",
   "id": "5a21f3b2-6e43-46e8-8663-fb01af9f2434",
   "metadata": {
    "jp-MarkdownHeadingCollapsed": true
   },
   "source": [
    "# Import libraries"
   ]
  },
  {
   "cell_type": "code",
   "execution_count": 1,
   "id": "77a4afdb-2c52-451e-840f-c853edf8404d",
   "metadata": {},
   "outputs": [
    {
     "name": "stdout",
     "output_type": "stream",
     "text": [
      "WARNING:tensorflow:From C:\\Users\\90544\\anaconda3\\envs\\jupyterlab-\\Lib\\site-packages\\keras\\src\\losses.py:2976: The name tf.losses.sparse_softmax_cross_entropy is deprecated. Please use tf.compat.v1.losses.sparse_softmax_cross_entropy instead.\n",
      "\n"
     ]
    }
   ],
   "source": [
    "import numpy as np\n",
    "import pandas as pd\n",
    "import tensorflow as tf\n",
    "from tensorflow.keras import layers, models\n",
    "from PIL import Image\n",
    "import matplotlib.pyplot as plt"
   ]
  },
  {
   "cell_type": "markdown",
   "id": "a79e4940-8219-4c08-896c-3c32d2d8d1cb",
   "metadata": {},
   "source": [
    "# Read the data"
   ]
  },
  {
   "cell_type": "code",
   "execution_count": 2,
   "id": "4b400706-74d5-435f-8312-2309e9c0bbeb",
   "metadata": {},
   "outputs": [
    {
     "data": {
      "text/html": [
       "<div>\n",
       "<style scoped>\n",
       "    .dataframe tbody tr th:only-of-type {\n",
       "        vertical-align: middle;\n",
       "    }\n",
       "\n",
       "    .dataframe tbody tr th {\n",
       "        vertical-align: top;\n",
       "    }\n",
       "\n",
       "    .dataframe thead th {\n",
       "        text-align: right;\n",
       "    }\n",
       "</style>\n",
       "<table border=\"1\" class=\"dataframe\">\n",
       "  <thead>\n",
       "    <tr style=\"text-align: right;\">\n",
       "      <th></th>\n",
       "      <th>filename</th>\n",
       "      <th>text</th>\n",
       "      <th>age</th>\n",
       "      <th>gender</th>\n",
       "      <th>accent</th>\n",
       "    </tr>\n",
       "  </thead>\n",
       "  <tbody>\n",
       "    <tr>\n",
       "      <th>0</th>\n",
       "      <td>sample-008291.png</td>\n",
       "      <td>watching the parody was great entertainment</td>\n",
       "      <td>twenties</td>\n",
       "      <td>male</td>\n",
       "      <td>indian</td>\n",
       "    </tr>\n",
       "    <tr>\n",
       "      <th>1</th>\n",
       "      <td>sample-099767.png</td>\n",
       "      <td>what'll i tell him</td>\n",
       "      <td>twenties</td>\n",
       "      <td>male</td>\n",
       "      <td>us</td>\n",
       "    </tr>\n",
       "    <tr>\n",
       "      <th>2</th>\n",
       "      <td>sample-149649.png</td>\n",
       "      <td>it was a strange furnace fueled by firewood wi...</td>\n",
       "      <td>twenties</td>\n",
       "      <td>female</td>\n",
       "      <td>us</td>\n",
       "    </tr>\n",
       "    <tr>\n",
       "      <th>3</th>\n",
       "      <td>sample-183749.png</td>\n",
       "      <td>and she already has her treasure it's you</td>\n",
       "      <td>twenties</td>\n",
       "      <td>other</td>\n",
       "      <td>ireland</td>\n",
       "    </tr>\n",
       "    <tr>\n",
       "      <th>4</th>\n",
       "      <td>sample-192527.png</td>\n",
       "      <td>not everyone can see his dreams come true in t...</td>\n",
       "      <td>twenties</td>\n",
       "      <td>male</td>\n",
       "      <td>indian</td>\n",
       "    </tr>\n",
       "    <tr>\n",
       "      <th>...</th>\n",
       "      <td>...</td>\n",
       "      <td>...</td>\n",
       "      <td>...</td>\n",
       "      <td>...</td>\n",
       "      <td>...</td>\n",
       "    </tr>\n",
       "    <tr>\n",
       "      <th>2395</th>\n",
       "      <td>sample-073042.png</td>\n",
       "      <td>this requires a little thought here</td>\n",
       "      <td>teens</td>\n",
       "      <td>male</td>\n",
       "      <td>us</td>\n",
       "    </tr>\n",
       "    <tr>\n",
       "      <th>2396</th>\n",
       "      <td>sample-025959.png</td>\n",
       "      <td>at that time it was quite clear in my own mind...</td>\n",
       "      <td>teens</td>\n",
       "      <td>male</td>\n",
       "      <td>england</td>\n",
       "    </tr>\n",
       "    <tr>\n",
       "      <th>2397</th>\n",
       "      <td>sample-146727.png</td>\n",
       "      <td>it was a bundle of money</td>\n",
       "      <td>teens</td>\n",
       "      <td>female</td>\n",
       "      <td>canada</td>\n",
       "    </tr>\n",
       "    <tr>\n",
       "      <th>2398</th>\n",
       "      <td>sample-140728.png</td>\n",
       "      <td>i thought you were gone</td>\n",
       "      <td>teens</td>\n",
       "      <td>male</td>\n",
       "      <td>england</td>\n",
       "    </tr>\n",
       "    <tr>\n",
       "      <th>2399</th>\n",
       "      <td>sample-158198.png</td>\n",
       "      <td>i sold crystal and crossed the desert</td>\n",
       "      <td>teens</td>\n",
       "      <td>male</td>\n",
       "      <td>us</td>\n",
       "    </tr>\n",
       "  </tbody>\n",
       "</table>\n",
       "<p>2400 rows × 5 columns</p>\n",
       "</div>"
      ],
      "text/plain": [
       "               filename                                               text  \\\n",
       "0     sample-008291.png        watching the parody was great entertainment   \n",
       "1     sample-099767.png                                 what'll i tell him   \n",
       "2     sample-149649.png  it was a strange furnace fueled by firewood wi...   \n",
       "3     sample-183749.png          and she already has her treasure it's you   \n",
       "4     sample-192527.png  not everyone can see his dreams come true in t...   \n",
       "...                 ...                                                ...   \n",
       "2395  sample-073042.png                this requires a little thought here   \n",
       "2396  sample-025959.png  at that time it was quite clear in my own mind...   \n",
       "2397  sample-146727.png                           it was a bundle of money   \n",
       "2398  sample-140728.png                            i thought you were gone   \n",
       "2399  sample-158198.png              i sold crystal and crossed the desert   \n",
       "\n",
       "           age  gender   accent  \n",
       "0     twenties    male   indian  \n",
       "1     twenties    male       us  \n",
       "2     twenties  female       us  \n",
       "3     twenties   other  ireland  \n",
       "4     twenties    male   indian  \n",
       "...        ...     ...      ...  \n",
       "2395     teens    male       us  \n",
       "2396     teens    male  england  \n",
       "2397     teens  female   canada  \n",
       "2398     teens    male  england  \n",
       "2399     teens    male       us  \n",
       "\n",
       "[2400 rows x 5 columns]"
      ]
     },
     "execution_count": 2,
     "metadata": {},
     "output_type": "execute_result"
    }
   ],
   "source": [
    "test_data=pd.read_csv(r\"C:\\Users\\90544\\Desktop\\dataset_a3\\voice_dataset\\test_data.csv\")\n",
    "test_data"
   ]
  },
  {
   "cell_type": "code",
   "execution_count": 3,
   "id": "13539539-d5b5-4887-a578-12cbd6151b66",
   "metadata": {},
   "outputs": [
    {
     "data": {
      "text/html": [
       "<div>\n",
       "<style scoped>\n",
       "    .dataframe tbody tr th:only-of-type {\n",
       "        vertical-align: middle;\n",
       "    }\n",
       "\n",
       "    .dataframe tbody tr th {\n",
       "        vertical-align: top;\n",
       "    }\n",
       "\n",
       "    .dataframe thead th {\n",
       "        text-align: right;\n",
       "    }\n",
       "</style>\n",
       "<table border=\"1\" class=\"dataframe\">\n",
       "  <thead>\n",
       "    <tr style=\"text-align: right;\">\n",
       "      <th></th>\n",
       "      <th>filename</th>\n",
       "      <th>text</th>\n",
       "      <th>age</th>\n",
       "      <th>gender</th>\n",
       "      <th>accent</th>\n",
       "    </tr>\n",
       "  </thead>\n",
       "  <tbody>\n",
       "    <tr>\n",
       "      <th>0</th>\n",
       "      <td>sample-084720.png</td>\n",
       "      <td>i had seen all that it would presently bring me</td>\n",
       "      <td>twenties</td>\n",
       "      <td>other</td>\n",
       "      <td>england</td>\n",
       "    </tr>\n",
       "    <tr>\n",
       "      <th>1</th>\n",
       "      <td>sample-169346.png</td>\n",
       "      <td>a friend had told the boy about the shop and h...</td>\n",
       "      <td>twenties</td>\n",
       "      <td>male</td>\n",
       "      <td>england</td>\n",
       "    </tr>\n",
       "    <tr>\n",
       "      <th>2</th>\n",
       "      <td>sample-027740.png</td>\n",
       "      <td>the boy said nothing</td>\n",
       "      <td>twenties</td>\n",
       "      <td>male</td>\n",
       "      <td>indian</td>\n",
       "    </tr>\n",
       "    <tr>\n",
       "      <th>3</th>\n",
       "      <td>sample-035454.png</td>\n",
       "      <td>what is the matter</td>\n",
       "      <td>twenties</td>\n",
       "      <td>male</td>\n",
       "      <td>us</td>\n",
       "    </tr>\n",
       "    <tr>\n",
       "      <th>4</th>\n",
       "      <td>sample-134062.png</td>\n",
       "      <td>no baselines or comparison to state of the art...</td>\n",
       "      <td>twenties</td>\n",
       "      <td>female</td>\n",
       "      <td>australia</td>\n",
       "    </tr>\n",
       "    <tr>\n",
       "      <th>...</th>\n",
       "      <td>...</td>\n",
       "      <td>...</td>\n",
       "      <td>...</td>\n",
       "      <td>...</td>\n",
       "      <td>...</td>\n",
       "    </tr>\n",
       "    <tr>\n",
       "      <th>9595</th>\n",
       "      <td>sample-047019.png</td>\n",
       "      <td>i've done nothing of the sort</td>\n",
       "      <td>teens</td>\n",
       "      <td>male</td>\n",
       "      <td>england</td>\n",
       "    </tr>\n",
       "    <tr>\n",
       "      <th>9596</th>\n",
       "      <td>sample-074245.png</td>\n",
       "      <td>air was either entering or escaping at the rim...</td>\n",
       "      <td>teens</td>\n",
       "      <td>male</td>\n",
       "      <td>us</td>\n",
       "    </tr>\n",
       "    <tr>\n",
       "      <th>9597</th>\n",
       "      <td>sample-071603.png</td>\n",
       "      <td>do you have any secret hiding place here in th...</td>\n",
       "      <td>teens</td>\n",
       "      <td>male</td>\n",
       "      <td>england</td>\n",
       "    </tr>\n",
       "    <tr>\n",
       "      <th>9598</th>\n",
       "      <td>sample-108781.png</td>\n",
       "      <td>the train lines provided an easy path to follow</td>\n",
       "      <td>teens</td>\n",
       "      <td>female</td>\n",
       "      <td>canada</td>\n",
       "    </tr>\n",
       "    <tr>\n",
       "      <th>9599</th>\n",
       "      <td>sample-136058.png</td>\n",
       "      <td>learn to recognize omens and follow them the o...</td>\n",
       "      <td>teens</td>\n",
       "      <td>female</td>\n",
       "      <td>us</td>\n",
       "    </tr>\n",
       "  </tbody>\n",
       "</table>\n",
       "<p>9600 rows × 5 columns</p>\n",
       "</div>"
      ],
      "text/plain": [
       "               filename                                               text  \\\n",
       "0     sample-084720.png    i had seen all that it would presently bring me   \n",
       "1     sample-169346.png  a friend had told the boy about the shop and h...   \n",
       "2     sample-027740.png                               the boy said nothing   \n",
       "3     sample-035454.png                                 what is the matter   \n",
       "4     sample-134062.png  no baselines or comparison to state of the art...   \n",
       "...                 ...                                                ...   \n",
       "9595  sample-047019.png                      i've done nothing of the sort   \n",
       "9596  sample-074245.png  air was either entering or escaping at the rim...   \n",
       "9597  sample-071603.png  do you have any secret hiding place here in th...   \n",
       "9598  sample-108781.png    the train lines provided an easy path to follow   \n",
       "9599  sample-136058.png  learn to recognize omens and follow them the o...   \n",
       "\n",
       "           age  gender     accent  \n",
       "0     twenties   other    england  \n",
       "1     twenties    male    england  \n",
       "2     twenties    male     indian  \n",
       "3     twenties    male         us  \n",
       "4     twenties  female  australia  \n",
       "...        ...     ...        ...  \n",
       "9595     teens    male    england  \n",
       "9596     teens    male         us  \n",
       "9597     teens    male    england  \n",
       "9598     teens  female     canada  \n",
       "9599     teens  female         us  \n",
       "\n",
       "[9600 rows x 5 columns]"
      ]
     },
     "execution_count": 3,
     "metadata": {},
     "output_type": "execute_result"
    }
   ],
   "source": [
    "train_data=pd.read_csv(r\"C:\\Users\\90544\\Desktop\\dataset_a3\\voice_dataset\\train_data.csv\")\n",
    "train_data"
   ]
  },
  {
   "cell_type": "code",
   "execution_count": 4,
   "id": "d6d0620f-97d8-4e9b-9056-682ec8d8c1d6",
   "metadata": {},
   "outputs": [],
   "source": [
    "train_data[\"age\"]=train_data[\"age\"].replace(\"teens\",0)\n",
    "train_data[\"age\"]=train_data[\"age\"].replace(\"twenties\",1)\n",
    "train_data[\"age\"]=train_data[\"age\"].replace(\"thirties\",2)\n",
    "train_data[\"age\"]=train_data[\"age\"].replace(\"fourties\",3)\n",
    "train_data[\"age\"]=train_data[\"age\"].replace(\"fifties\",4)\n",
    "train_data[\"age\"]=train_data[\"age\"].replace(\"sixties\",5)"
   ]
  },
  {
   "cell_type": "code",
   "execution_count": 5,
   "id": "379e5d56-0e5e-44d0-ad43-0cf99ca46511",
   "metadata": {},
   "outputs": [],
   "source": [
    "basepath=r\"C:\\Users\\90544\\Desktop\\dataset_a3\\voice_dataset\\train\"\n",
    "\n",
    "train_X=[]\n",
    "train_Y=[]\n",
    "\n",
    "for i in range(len(train_data)):\n",
    "    #import file row\n",
    "    file = train_data.iloc[i]\n",
    "    \n",
    "    #load image\n",
    "    image = tf.keras.utils.load_img(basepath +\"\\\\\"+file['filename'])\n",
    "    \n",
    "    #convert rgb image to grayscale\n",
    "    grayscale_image = tf.image.rgb_to_grayscale(image)\n",
    "    \n",
    "    #normalized image values 0,255 to between 0,1\n",
    "    grayscale_image=grayscale_image/255\n",
    "\n",
    "    resized_image = tf.image.resize(grayscale_image, (256, 256))\n",
    "\n",
    "    #append the image and age attributes to lists\n",
    "    train_X.append(resized_image)\n",
    "    train_Y.append(file[\"age\"])"
   ]
  },
  {
   "cell_type": "code",
   "execution_count": 6,
   "id": "72ec6043-3706-4baf-81bf-50dd21a81568",
   "metadata": {},
   "outputs": [],
   "source": [
    "# Find unique categories\n",
    "unique_categories = np.unique(train_Y)\n",
    "\n",
    "# Creating an empty matrix to encode each category one-hot\n",
    "one_hot_matrix = np.zeros((len(train_Y), len(unique_categories)))\n",
    "\n",
    "# Mark the columns corresponding to each category as 1\n",
    "for i, train_Y in enumerate(train_Y):\n",
    "    one_hot_matrix[i, np.where(unique_categories == train_Y)] = 1"
   ]
  },
  {
   "cell_type": "code",
   "execution_count": 7,
   "id": "3fcb3ad6-2b5b-4129-8098-8c3ffdff464f",
   "metadata": {},
   "outputs": [],
   "source": [
    "test_data[\"age\"]=test_data[\"age\"].replace(\"teens\",0)\n",
    "test_data[\"age\"]=test_data[\"age\"].replace(\"twenties\",1)\n",
    "test_data[\"age\"]=test_data[\"age\"].replace(\"thirties\",2)\n",
    "test_data[\"age\"]=test_data[\"age\"].replace(\"fourties\",3)\n",
    "test_data[\"age\"]=test_data[\"age\"].replace(\"fifties\",4)\n",
    "test_data[\"age\"]=test_data[\"age\"].replace(\"sixties\",5)"
   ]
  },
  {
   "cell_type": "code",
   "execution_count": 8,
   "id": "86d0d854-36e3-4175-89d5-d30e18abf93b",
   "metadata": {},
   "outputs": [],
   "source": [
    "basepath=r\"C:\\Users\\90544\\Desktop\\dataset_a3\\voice_dataset\\test\"\n",
    "\n",
    "test_X=[]\n",
    "test_Y=[]\n",
    "\n",
    "for i in range(len(test_data)):\n",
    "    #import file row\n",
    "    file = test_data.iloc[i]\n",
    "    \n",
    "    #load image\n",
    "    image = tf.keras.utils.load_img(basepath +\"\\\\\"+file['filename'])\n",
    "    \n",
    "    #convert rgb image to grayscale\n",
    "    grayscale_image = tf.image.rgb_to_grayscale(image)\n",
    "    \n",
    "    #normalized image values 0,255 to between 0,1\n",
    "    grayscale_image=grayscale_image/255\n",
    "\n",
    "    resized_image = tf.image.resize(grayscale_image, (256, 256))\n",
    "\n",
    "    #append the image and age attributes to lists\n",
    "    test_X.append(resized_image)\n",
    "    test_Y.append(file[\"age\"])"
   ]
  },
  {
   "cell_type": "code",
   "execution_count": 9,
   "id": "77e1edae-9255-40ee-b055-8732215b1516",
   "metadata": {},
   "outputs": [],
   "source": [
    "# Find unique categories\n",
    "unique_categories = np.unique(test_Y)\n",
    "\n",
    "# Creating an empty matrix to encode each category one-hot\n",
    "one_hot_matrix_test = np.zeros((len(test_Y), len(unique_categories)))\n",
    "\n",
    "# Mark the columns corresponding to each category as 1\n",
    "for i, test_Y in enumerate(test_Y):\n",
    "    one_hot_matrix_test[i, np.where(unique_categories == test_Y)] = 1"
   ]
  },
  {
   "cell_type": "code",
   "execution_count": 10,
   "id": "48e2ecdd-911d-445f-b71b-23848c6abefd",
   "metadata": {},
   "outputs": [
    {
     "data": {
      "image/png": "[encoded data removed]",
      "text/plain": [
       "<Figure size 640x480 with 1 Axes>"
      ]
     },
     "metadata": {},
     "output_type": "display_data"
    }
   ],
   "source": [
    "plt.imshow(train_X[6])\n",
    "#plt.title(train_Y[6])\n",
    "plt.axis(\"off\")\n",
    "plt.show()"
   ]
  },
  {
   "cell_type": "code",
   "execution_count": 11,
   "id": "7a7b70a0-9403-4119-8c39-c932d898dcf7",
   "metadata": {},
   "outputs": [],
   "source": [
    "x = np.array(train_X)\n",
    "y = np.array(one_hot_matrix)"
   ]
  },
  {
   "cell_type": "code",
   "execution_count": 12,
   "id": "f0e29fa7-fd8f-4a4e-98e5-da404393e0e8",
   "metadata": {},
   "outputs": [],
   "source": [
    "x = x.reshape((9600, 65536))"
   ]
  },
  {
   "cell_type": "code",
   "execution_count": 13,
   "id": "4508e7e9-0d9b-4c9f-994c-a8103b78f4a3",
   "metadata": {},
   "outputs": [],
   "source": [
    "x_test = np.array(test_X)\n",
    "y_test = np.array(one_hot_matrix_test)"
   ]
  },
  {
   "cell_type": "code",
   "execution_count": 14,
   "id": "fa7dc759-e298-43a3-9dd9-61ddd12d56c8",
   "metadata": {},
   "outputs": [],
   "source": [
    "x_test = x_test.reshape((2400, 65536))"
   ]
  },
  {
   "cell_type": "code",
   "execution_count": 15,
   "id": "ca6dc161-1c2f-4ae3-9dd9-5dc5a48bb767",
   "metadata": {},
   "outputs": [
    {
     "data": {
      "text/plain": [
       "array([[0.11764706, 0.1764706 , 0.1764706 , ..., 0.26666668, 0.26666668,\n",
       "        0.26666668],\n",
       "       [0.11764706, 0.11764706, 0.11764706, ..., 0.24082415, 0.23169424,\n",
       "        0.21176471],\n",
       "       [0.11764706, 0.11764706, 0.11764706, ..., 0.11764706, 0.11764706,\n",
       "        0.11764706],\n",
       "       ...,\n",
       "       [0.11764706, 0.11764706, 0.11764706, ..., 0.29394916, 0.2901961 ,\n",
       "        0.2901961 ],\n",
       "       [0.11764706, 0.11764706, 0.11764706, ..., 0.38431373, 0.40687805,\n",
       "        0.40784314],\n",
       "       [0.11764706, 0.11764706, 0.11764706, ..., 0.3218367 , 0.32156864,\n",
       "        0.29411766]], dtype=float32)"
      ]
     },
     "execution_count": 15,
     "metadata": {},
     "output_type": "execute_result"
    }
   ],
   "source": [
    "x"
   ]
  },
  {
   "cell_type": "markdown",
   "id": "e445afc4-25f9-46d6-8fa5-42808727826f",
   "metadata": {},
   "source": [
    "# Neural Network"
   ]
  },
  {
   "cell_type": "code",
   "execution_count": 16,
   "id": "9a676e5f-3946-4d90-bd51-14583645569e",
   "metadata": {},
   "outputs": [],
   "source": [
    "def initialize_parameters(input_size, hidden_layers, output_size):\n",
    "    sizes = [input_size] + hidden_layers + [output_size]\n",
    "    weights = [np.random.randn(sizes[i], sizes[i+1]) for i in range(len(sizes)-1)]\n",
    "    biases = [np.zeros((1, sizes[i+1])) for i in range(len(sizes)-1)]\n",
    "    return weights, biases\n",
    "\n",
    "def sigmoid(x):\n",
    "    return 1 / (1 + np.exp(-x))\n",
    "\n",
    "def relu(x):\n",
    "    return np.maximum(0, x)\n",
    "\n",
    "def softmax(x):\n",
    "    exp_x = np.exp(x - np.max(x, axis=1, keepdims=True))\n",
    "    return exp_x / np.sum(exp_x, axis=1, keepdims=True)\n",
    "\n",
    "def activate(x, activation):\n",
    "    if activation == 'sigmoid':\n",
    "        return sigmoid(x)\n",
    "    elif activation == 'relu':\n",
    "        return relu(x)\n",
    "    elif activation == 'softmax':\n",
    "        return softmax(x)\n",
    "\n",
    "def forward_propagation(x, weights, biases, activation):\n",
    "    activations = [x]\n",
    "    for i in range(len(weights) - 1):\n",
    "        z = np.dot(activations[-1], weights[i]) + biases[i]\n",
    "        a = activate(z, activation)\n",
    "        activations.append(a)\n",
    "    output = np.dot(activations[-1], weights[-1]) + biases[-1]\n",
    "    output = activate(output, activation)\n",
    "    activations.append(output)\n",
    "    return activations\n",
    "\n",
    "def compute_loss(y_true, y_pred):\n",
    "    return -np.mean(y_true * np.log(y_pred + 1e-8))\n",
    "\n",
    "def backward_propagation(x_batch, y_batch, activations, weights, biases, learning_rate, activation):\n",
    "    m = x_batch.shape[0]\n",
    "    gradients = [activations[-1] - y_batch]\n",
    "    for i in range(len(weights) - 1, 0, -1):\n",
    "        dz = np.dot(gradients[0], weights[i].T)\n",
    "        da = dz * (activations[i] > 0) if activation == 'relu' else dz\n",
    "        dw = np.dot(activations[i-1].T, da) / m\n",
    "        db = np.sum(da, axis=0, keepdims=True) / m\n",
    "        gradients.insert(0, da)\n",
    "        weights[i-1] -= learning_rate * dw\n",
    "        biases[i-1] -= learning_rate * db\n",
    "\n",
    "    dw = np.dot(x_batch.T, gradients[0]) / m\n",
    "    db = np.sum(gradients[0], axis=0, keepdims=True) / m\n",
    "    weights[0] -= learning_rate * dw\n",
    "    biases[0] -= learning_rate * db\n",
    "\n",
    "def train_neural_network(x, y, input_size, hidden_layers, output_size, activation, epochs, learning_rate, batch_size):\n",
    "    weights, biases = initialize_parameters(input_size, hidden_layers, output_size)\n",
    "    m = x.shape[0]\n",
    "    loss_list=[]\n",
    "    for epoch in range(epochs):\n",
    "        for i in range(0, m, batch_size):\n",
    "            x_batch = x[i:i+batch_size]\n",
    "            y_batch = y[i:i+batch_size]\n",
    "\n",
    "            activations = forward_propagation(x_batch, weights, biases, activation)\n",
    "            loss = compute_loss(y_batch, activations[-1])\n",
    "            backward_propagation(x_batch, y_batch, activations, weights, biases, learning_rate, activation)\n",
    "\n",
    "        accuracy = compute_accuracy(y, predict(x, weights, biases, activation))\n",
    "        #print(f\"Epoch {epoch}, Loss: {loss}, Accuracy: {accuracy}%\")\n",
    "        loss_list.append(loss)\n",
    "    loss_mean=sum(loss_list)/len(loss_list)\n",
    "    return weights, biases ,loss_mean # Return trained weights and biases\n",
    "\n",
    "def compute_accuracy(y_true, y_pred):\n",
    "    predictions = np.argmax(y_pred, axis=1)\n",
    "    true_labels = np.argmax(y_true, axis=1)\n",
    "    correct_predictions = np.sum(predictions == true_labels)\n",
    "    total_examples = y_true.shape[0]\n",
    "    accuracy = (correct_predictions / total_examples) * 100\n",
    "    return accuracy\n",
    "\n",
    "def predict(x, weights, biases, activation):\n",
    "    activations = forward_propagation(x, weights, biases, activation)\n",
    "    return activations[-1]"
   ]
  },
  {
   "cell_type": "code",
   "execution_count": 17,
   "id": "70c7c66f-2708-4bf4-be5e-5f43bd6b9027",
   "metadata": {},
   "outputs": [],
   "source": [
    "table=[]"
   ]
  },
  {
   "cell_type": "markdown",
   "id": "d35a727e-7fdb-4e9e-9ef4-f38e092d021a",
   "metadata": {
    "jp-MarkdownHeadingCollapsed": true
   },
   "source": [
    "# Single-layer neural network"
   ]
  },
  {
   "cell_type": "code",
   "execution_count": 18,
   "id": "eb8938b0-00c2-441e-b188-7000bda9709c",
   "metadata": {},
   "outputs": [],
   "source": [
    "# Define input size, hidden layers, output size, activation function\n",
    "input_size = 256*256\n",
    "hidden_layers = []\n",
    "output_size = 6\n",
    "activation_function = 'sigmoid'\n",
    "batch_size = 128\n",
    "learning_rate=0.005\n",
    "\n",
    "# Train the neural network \n",
    "trained_weights, trained_biases,loss_mean = train_neural_network(x, y, input_size, hidden_layers, output_size, activation_function, epochs=10, learning_rate=learning_rate, batch_size=batch_size)\n",
    "\n",
    "# Predict the test values using trained weights and biases\n",
    "test_predictions = predict(x_test, trained_weights, trained_biases, activation_function)\n",
    "\n",
    "# Calculate accuracy on the test set\n",
    "test_accuracy = compute_accuracy(y_test, test_predictions)\n",
    "#print(f\"Test Accuracy: {test_accuracy}%\")\n",
    "\n",
    "table.append([1,input_size,activation_function,hidden_layers,learning_rate,batch_size,loss_mean,test_accuracy])"
   ]
  },
  {
   "cell_type": "code",
   "execution_count": 19,
   "id": "2b6a182a-7dd4-47d9-9663-cd9c4240bc5d",
   "metadata": {},
   "outputs": [],
   "source": [
    "# Define input size, hidden layers, output size, activation function\n",
    "input_size = 256*256\n",
    "hidden_layers = []\n",
    "output_size = 6\n",
    "activation_function = 'sigmoid'\n",
    "batch_size = 64\n",
    "learning_rate=0.005\n",
    "\n",
    "# Train the neural network \n",
    "trained_weights, trained_biases,loss_mean = train_neural_network(x, y, input_size, hidden_layers, output_size, activation_function, epochs=10, learning_rate=learning_rate, batch_size=batch_size)\n",
    "\n",
    "# Predict the test values using trained weights and biases\n",
    "test_predictions = predict(x_test, trained_weights, trained_biases, activation_function)\n",
    "\n",
    "# Calculate accuracy on the test set\n",
    "test_accuracy = compute_accuracy(y_test, test_predictions)\n",
    "#print(f\"Test Accuracy: {test_accuracy}%\")\n",
    "\n",
    "table.append([2,input_size,activation_function,hidden_layers,learning_rate,batch_size,loss_mean,test_accuracy])"
   ]
  },
  {
   "cell_type": "code",
   "execution_count": 20,
   "id": "8f03b08f-a558-459f-80e1-5ea43d961839",
   "metadata": {},
   "outputs": [],
   "source": [
    "# Define input size, hidden layers, output size, activation function\n",
    "input_size = 256*256\n",
    "hidden_layers = []\n",
    "output_size = 6\n",
    "activation_function = 'sigmoid'\n",
    "batch_size = 32\n",
    "learning_rate=0.005\n",
    "\n",
    "# Train the neural network \n",
    "trained_weights, trained_biases,loss_mean = train_neural_network(x, y, input_size, hidden_layers, output_size, activation_function, epochs=10, learning_rate=learning_rate, batch_size=batch_size)\n",
    "\n",
    "# Predict the test values using trained weights and biases\n",
    "test_predictions = predict(x_test, trained_weights, trained_biases, activation_function)\n",
    "\n",
    "# Calculate accuracy on the test set\n",
    "test_accuracy = compute_accuracy(y_test, test_predictions)\n",
    "#print(f\"Test Accuracy: {test_accuracy}%\")\n",
    "\n",
    "table.append([3,input_size,activation_function,hidden_layers,learning_rate,batch_size,loss_mean,test_accuracy])"
   ]
  },
  {
   "cell_type": "code",
   "execution_count": 21,
   "id": "88e61572-c430-49fe-956c-bf750107c443",
   "metadata": {},
   "outputs": [],
   "source": [
    "# Define input size, hidden layers, output size, activation function\n",
    "input_size = 256*256\n",
    "hidden_layers = []\n",
    "output_size = 6\n",
    "activation_function = 'sigmoid'\n",
    "batch_size = 128\n",
    "learning_rate=0.02\n",
    "\n",
    "# Train the neural network \n",
    "trained_weights, trained_biases,loss_mean = train_neural_network(x, y, input_size, hidden_layers, output_size, activation_function, epochs=10, learning_rate=learning_rate, batch_size=batch_size)\n",
    "\n",
    "# Predict the test values using trained weights and biases\n",
    "test_predictions = predict(x_test, trained_weights, trained_biases, activation_function)\n",
    "\n",
    "# Calculate accuracy on the test set\n",
    "test_accuracy = compute_accuracy(y_test, test_predictions)\n",
    "#print(f\"Test Accuracy: {test_accuracy}%\")\n",
    "\n",
    "table.append([4,input_size,activation_function,hidden_layers,learning_rate,batch_size,loss_mean,test_accuracy])"
   ]
  },
  {
   "cell_type": "code",
   "execution_count": 22,
   "id": "2414e840-dd49-4869-b2b9-5eb94560dc16",
   "metadata": {},
   "outputs": [],
   "source": [
    "# Define input size, hidden layers, output size, activation function\n",
    "input_size = 256*256\n",
    "hidden_layers = []\n",
    "output_size = 6\n",
    "activation_function = 'relu'\n",
    "batch_size = 128\n",
    "learning_rate=0.005\n",
    "\n",
    "# Train the neural network \n",
    "trained_weights, trained_biases,loss_mean = train_neural_network(x, y, input_size, hidden_layers, output_size, activation_function, epochs=10, learning_rate=learning_rate, batch_size=batch_size)\n",
    "\n",
    "# Predict the test values using trained weights and biases\n",
    "test_predictions = predict(x_test, trained_weights, trained_biases, activation_function)\n",
    "\n",
    "# Calculate accuracy on the test set\n",
    "test_accuracy = compute_accuracy(y_test, test_predictions)\n",
    "#print(f\"Test Accuracy: {test_accuracy}%\")\n",
    "\n",
    "table.append([5,input_size,activation_function,hidden_layers,learning_rate,batch_size,loss_mean,test_accuracy])"
   ]
  },
  {
   "cell_type": "code",
   "execution_count": 23,
   "id": "19cf6999-2938-402e-acd6-3be0ccbf8b32",
   "metadata": {},
   "outputs": [],
   "source": [
    "# Define input size, hidden layers, output size, activation function\n",
    "input_size = 256*256\n",
    "hidden_layers = []\n",
    "output_size = 6\n",
    "activation_function = 'softmax'\n",
    "batch_size = 128\n",
    "learning_rate=0.005\n",
    "\n",
    "# Train the neural network \n",
    "trained_weights, trained_biases,loss_mean = train_neural_network(x, y, input_size, hidden_layers, output_size, activation_function, epochs=10, learning_rate=learning_rate, batch_size=batch_size)\n",
    "\n",
    "# Predict the test values using trained weights and biases\n",
    "test_predictions = predict(x_test, trained_weights, trained_biases, activation_function)\n",
    "\n",
    "# Calculate accuracy on the test set\n",
    "test_accuracy = compute_accuracy(y_test, test_predictions)\n",
    "#print(f\"Test Accuracy: {test_accuracy}%\")\n",
    "\n",
    "table.append([6,input_size,activation_function,hidden_layers,learning_rate,batch_size,loss_mean,test_accuracy])"
   ]
  },
  {
   "cell_type": "code",
   "execution_count": 24,
   "id": "16758137-520f-4430-8476-6649202b4c96",
   "metadata": {},
   "outputs": [],
   "source": [
    "# Define input size, hidden layers, output size, activation function\n",
    "input_size = 256*256\n",
    "hidden_layers = []\n",
    "output_size = 6\n",
    "activation_function = 'softmax'\n",
    "batch_size = 128\n",
    "learning_rate=0.02\n",
    "\n",
    "# Train the neural network \n",
    "trained_weights, trained_biases,loss_mean = train_neural_network(x, y, input_size, hidden_layers, output_size, activation_function, epochs=10, learning_rate=learning_rate, batch_size=batch_size)\n",
    "\n",
    "# Predict the test values using trained weights and biases\n",
    "test_predictions = predict(x_test, trained_weights, trained_biases, activation_function)\n",
    "\n",
    "# Calculate accuracy on the test set\n",
    "test_accuracy = compute_accuracy(y_test, test_predictions)\n",
    "#print(f\"Test Accuracy: {test_accuracy}%\")\n",
    "\n",
    "table.append([7,input_size,activation_function,hidden_layers,learning_rate,batch_size,loss_mean,test_accuracy])"
   ]
  },
  {
   "cell_type": "code",
   "execution_count": 25,
   "id": "65a84142-5465-4b6f-ab59-d610ad9e1bad",
   "metadata": {},
   "outputs": [],
   "source": [
    "# Define input size, hidden layers, output size, activation function\n",
    "input_size = 256*256\n",
    "hidden_layers = []\n",
    "output_size = 6\n",
    "activation_function = 'softmax'\n",
    "batch_size = 128\n",
    "learning_rate=0.01\n",
    "\n",
    "# Train the neural network \n",
    "trained_weights, trained_biases,loss_mean = train_neural_network(x, y, input_size, hidden_layers, output_size, activation_function, epochs=10, learning_rate=learning_rate, batch_size=batch_size)\n",
    "\n",
    "# Predict the test values using trained weights and biases\n",
    "test_predictions = predict(x_test, trained_weights, trained_biases, activation_function)\n",
    "\n",
    "# Calculate accuracy on the test set\n",
    "test_accuracy = compute_accuracy(y_test, test_predictions)\n",
    "#print(f\"Test Accuracy: {test_accuracy}%\")\n",
    "\n",
    "table.append([8,input_size,activation_function,hidden_layers,learning_rate,batch_size,loss_mean,test_accuracy])"
   ]
  },
  {
   "cell_type": "code",
   "execution_count": 26,
   "id": "1a7bf2a0-1a38-4dc2-9116-f6701e89ec01",
   "metadata": {},
   "outputs": [],
   "source": [
    "# Define input size, hidden layers, output size, activation function\n",
    "input_size = 256*256\n",
    "hidden_layers = []\n",
    "output_size = 6\n",
    "activation_function = 'relu'\n",
    "batch_size = 128\n",
    "learning_rate=0.01\n",
    "\n",
    "# Train the neural network \n",
    "trained_weights, trained_biases,loss_mean = train_neural_network(x, y, input_size, hidden_layers, output_size, activation_function, epochs=10, learning_rate=learning_rate, batch_size=batch_size)\n",
    "\n",
    "# Predict the test values using trained weights and biases\n",
    "test_predictions = predict(x_test, trained_weights, trained_biases, activation_function)\n",
    "\n",
    "# Calculate accuracy on the test set\n",
    "test_accuracy = compute_accuracy(y_test, test_predictions)\n",
    "#print(f\"Test Accuracy: {test_accuracy}%\")\n",
    "\n",
    "table.append([9,input_size,activation_function,hidden_layers,learning_rate,batch_size,loss_mean,test_accuracy])"
   ]
  },
  {
   "cell_type": "code",
   "execution_count": 27,
   "id": "7182ef51-7c0a-48b3-9bbe-11d8d26b0212",
   "metadata": {},
   "outputs": [],
   "source": [
    "# Define input size, hidden layers, output size, activation function\n",
    "input_size = 256*256\n",
    "hidden_layers = []\n",
    "output_size = 6\n",
    "activation_function = 'sigmoid'\n",
    "batch_size = 128\n",
    "learning_rate=0.015\n",
    "\n",
    "# Train the neural network \n",
    "trained_weights, trained_biases,loss_mean = train_neural_network(x, y, input_size, hidden_layers, output_size, activation_function, epochs=10, learning_rate=learning_rate, batch_size=batch_size)\n",
    "\n",
    "# Predict the test values using trained weights and biases\n",
    "test_predictions = predict(x_test, trained_weights, trained_biases, activation_function)\n",
    "\n",
    "# Calculate accuracy on the test set\n",
    "test_accuracy = compute_accuracy(y_test, test_predictions)\n",
    "#print(f\"Test Accuracy: {test_accuracy}%\")\n",
    "\n",
    "table.append([10,input_size,activation_function,hidden_layers,learning_rate,batch_size,loss_mean,test_accuracy])"
   ]
  },
  {
   "cell_type": "markdown",
   "id": "528e73ec-0023-461b-94d9-398e33263f1f",
   "metadata": {},
   "source": [
    "# Result for one layer neural network"
   ]
  },
  {
   "cell_type": "code",
   "execution_count": 28,
   "id": "beeae0de-c603-4bff-9194-8fe37643170e",
   "metadata": {},
   "outputs": [
    {
     "name": "stdout",
     "output_type": "stream",
     "text": [
      "+--------------+--------------+--------------------------+---------------------+-----------------+--------------+--------------------+------------+\n",
      "|   Experiment |   Input Size | Model Activation Func.   | Hidden Layer Size   |   Learning Rate |   Batch Size |   Mean of the loss |   Accuracy |\n",
      "+==============+==============+==========================+=====================+=================+==============+====================+============+\n",
      "|            1 |        65536 | sigmoid                  | []                  |           0.005 |          128 |        0.742487    |    17.2917 |\n",
      "+--------------+--------------+--------------------------+---------------------+-----------------+--------------+--------------------+------------+\n",
      "|            2 |        65536 | sigmoid                  | []                  |           0.005 |           64 |        0.116161    |    16.6667 |\n",
      "+--------------+--------------+--------------------------+---------------------+-----------------+--------------+--------------------+------------+\n",
      "|            3 |        65536 | sigmoid                  | []                  |           0.005 |           32 |        0.000293007 |    16.8333 |\n",
      "+--------------+--------------+--------------------------+---------------------+-----------------+--------------+--------------------+------------+\n",
      "|            4 |        65536 | sigmoid                  | []                  |           0.02  |          128 |       -1.66667e-09 |    16.7083 |\n",
      "+--------------+--------------+--------------------------+---------------------+-----------------+--------------+--------------------+------------+\n",
      "|            5 |        65536 | relu                     | []                  |           0.005 |          128 |        2.70532     |    16.6667 |\n",
      "+--------------+--------------+--------------------------+---------------------+-----------------+--------------+--------------------+------------+\n",
      "|            6 |        65536 | softmax                  | []                  |           0.005 |          128 |        0.390455    |    17.6667 |\n",
      "+--------------+--------------+--------------------------+---------------------+-----------------+--------------+--------------------+------------+\n",
      "|            7 |        65536 | softmax                  | []                  |           0.02  |          128 |       -1.66667e-09 |    16.6667 |\n",
      "+--------------+--------------+--------------------------+---------------------+-----------------+--------------+--------------------+------------+\n",
      "|            8 |        65536 | softmax                  | []                  |           0.01  |          128 |        0.181581    |    17.5    |\n",
      "+--------------+--------------+--------------------------+---------------------+-----------------+--------------+--------------------+------------+\n",
      "|            9 |        65536 | relu                     | []                  |           0.01  |          128 |        3.06493     |    16.6667 |\n",
      "+--------------+--------------+--------------------------+---------------------+-----------------+--------------+--------------------+------------+\n",
      "|           10 |        65536 | sigmoid                  | []                  |           0.015 |          128 |        0.0107853   |    16.7083 |\n",
      "+--------------+--------------+--------------------------+---------------------+-----------------+--------------+--------------------+------------+\n"
     ]
    }
   ],
   "source": [
    "from tabulate import tabulate\n",
    "tablo = tabulate(table, headers=['Experiment', 'Input Size' , 'Model Activation Func.', 'Hidden Layer Size',\n",
    "                              'Learning Rate', 'Batch Size', 'Mean of the loss', 'Accuracy'], tablefmt='grid')\n",
    "print(tablo)"
   ]
  },
  {
   "cell_type": "code",
   "execution_count": 29,
   "id": "8f198175-09be-417d-ac64-a50d11cd0f6f",
   "metadata": {},
   "outputs": [],
   "source": [
    "table=[]"
   ]
  },
  {
   "cell_type": "markdown",
   "id": "ea57af93-7505-43e0-b134-bd76402c17f4",
   "metadata": {
    "jp-MarkdownHeadingCollapsed": true
   },
   "source": [
    "# Neural network that contains one hidden layer"
   ]
  },
  {
   "cell_type": "code",
   "execution_count": 30,
   "id": "bcf55066-f79b-4bc3-a2a5-aed2ac53c55b",
   "metadata": {},
   "outputs": [],
   "source": [
    "# Define input size, hidden layers, output size, activation function\n",
    "input_size = 256*256\n",
    "hidden_layers = [128]\n",
    "output_size = 6\n",
    "activation_function = 'sigmoid'\n",
    "batch_size = 128\n",
    "learning_rate=0.005\n",
    "\n",
    "# Train the neural network \n",
    "trained_weights, trained_biases,loss_mean = train_neural_network(x, y, input_size, hidden_layers, output_size, activation_function, epochs=10, learning_rate=learning_rate, batch_size=batch_size)\n",
    "\n",
    "# Predict the test values using trained weights and biases\n",
    "test_predictions = predict(x_test, trained_weights, trained_biases, activation_function)\n",
    "\n",
    "# Calculate accuracy on the test set\n",
    "test_accuracy = compute_accuracy(y_test, test_predictions)\n",
    "#print(f\"Test Accuracy: {test_accuracy}%\")\n",
    "\n",
    "table.append([1,input_size,activation_function,hidden_layers,learning_rate,batch_size,loss_mean,test_accuracy])\n"
   ]
  },
  {
   "cell_type": "code",
   "execution_count": 31,
   "id": "9cacdaf6-b835-4c37-beb0-4d368fbd92da",
   "metadata": {},
   "outputs": [
    {
     "name": "stderr",
     "output_type": "stream",
     "text": [
      "C:\\Users\\90544\\AppData\\Local\\Temp\\ipykernel_316\\28911492.py:8: RuntimeWarning: overflow encountered in exp\n",
      "  return 1 / (1 + np.exp(-x))\n"
     ]
    }
   ],
   "source": [
    "# Define input size, hidden layers, output size, activation function\n",
    "input_size = 256*256\n",
    "hidden_layers = [128]\n",
    "output_size = 6\n",
    "activation_function = 'sigmoid'\n",
    "batch_size = 128\n",
    "learning_rate=0.005\n",
    "\n",
    "# Train the neural network \n",
    "trained_weights, trained_biases,loss_mean = train_neural_network(x, y, input_size, hidden_layers, output_size, activation_function, epochs=10, learning_rate=learning_rate, batch_size=batch_size)\n",
    "\n",
    "# Predict the test values using trained weights and biases\n",
    "test_predictions = predict(x_test, trained_weights, trained_biases, activation_function)\n",
    "\n",
    "# Calculate accuracy on the test set\n",
    "test_accuracy = compute_accuracy(y_test, test_predictions)\n",
    "#print(f\"Test Accuracy: {test_accuracy}%\")\n",
    "\n",
    "table.append([2,input_size,activation_function,hidden_layers,learning_rate,batch_size,loss_mean,test_accuracy])\n"
   ]
  },
  {
   "cell_type": "code",
   "execution_count": 32,
   "id": "1566ce37-030e-4d70-bffb-b3021729b436",
   "metadata": {},
   "outputs": [
    {
     "name": "stderr",
     "output_type": "stream",
     "text": [
      "C:\\Users\\90544\\AppData\\Local\\Temp\\ipykernel_316\\28911492.py:8: RuntimeWarning: overflow encountered in exp\n",
      "  return 1 / (1 + np.exp(-x))\n"
     ]
    }
   ],
   "source": [
    "# Define input size, hidden layers, output size, activation function\n",
    "input_size = 256*256\n",
    "hidden_layers = [128]\n",
    "output_size = 6\n",
    "activation_function = 'sigmoid'\n",
    "batch_size = 64\n",
    "learning_rate=0.005\n",
    "\n",
    "# Train the neural network \n",
    "trained_weights, trained_biases,loss_mean = train_neural_network(x, y, input_size, hidden_layers, output_size, activation_function, epochs=10, learning_rate=learning_rate, batch_size=batch_size)\n",
    "\n",
    "# Predict the test values using trained weights and biases\n",
    "test_predictions = predict(x_test, trained_weights, trained_biases, activation_function)\n",
    "\n",
    "# Calculate accuracy on the test set\n",
    "test_accuracy = compute_accuracy(y_test, test_predictions)\n",
    "#print(f\"Test Accuracy: {test_accuracy}%\")\n",
    "\n",
    "table.append([3,input_size,activation_function,hidden_layers,learning_rate,batch_size,loss_mean,test_accuracy])\n"
   ]
  },
  {
   "cell_type": "code",
   "execution_count": 33,
   "id": "d6124fce-2fa1-43a0-8500-cb405d41350c",
   "metadata": {},
   "outputs": [
    {
     "name": "stderr",
     "output_type": "stream",
     "text": [
      "C:\\Users\\90544\\AppData\\Local\\Temp\\ipykernel_316\\28911492.py:8: RuntimeWarning: overflow encountered in exp\n",
      "  return 1 / (1 + np.exp(-x))\n"
     ]
    }
   ],
   "source": [
    "# Define input size, hidden layers, output size, activation function\n",
    "input_size = 256*256\n",
    "hidden_layers = [128]\n",
    "output_size = 6\n",
    "activation_function = 'sigmoid'\n",
    "batch_size = 32\n",
    "learning_rate=0.005\n",
    "\n",
    "# Train the neural network \n",
    "trained_weights, trained_biases,loss_mean = train_neural_network(x, y, input_size, hidden_layers, output_size, activation_function, epochs=10, learning_rate=learning_rate, batch_size=batch_size)\n",
    "\n",
    "# Predict the test values using trained weights and biases\n",
    "test_predictions = predict(x_test, trained_weights, trained_biases, activation_function)\n",
    "\n",
    "# Calculate accuracy on the test set\n",
    "test_accuracy = compute_accuracy(y_test, test_predictions)\n",
    "#print(f\"Test Accuracy: {test_accuracy}%\")\n",
    "\n",
    "table.append([4,input_size,activation_function,hidden_layers,learning_rate,batch_size,loss_mean,test_accuracy])\n"
   ]
  },
  {
   "cell_type": "code",
   "execution_count": 34,
   "id": "c30083fb-9f76-4d05-8874-a3dbbbed1f08",
   "metadata": {},
   "outputs": [
    {
     "name": "stderr",
     "output_type": "stream",
     "text": [
      "C:\\Users\\90544\\AppData\\Local\\Temp\\ipykernel_316\\28911492.py:8: RuntimeWarning: overflow encountered in exp\n",
      "  return 1 / (1 + np.exp(-x))\n"
     ]
    }
   ],
   "source": [
    "# Define input size, hidden layers, output size, activation function\n",
    "input_size = 256*256\n",
    "hidden_layers = [128]\n",
    "output_size = 6\n",
    "activation_function = 'sigmoid'\n",
    "batch_size = 128\n",
    "learning_rate=0.02\n",
    "\n",
    "# Train the neural network \n",
    "trained_weights, trained_biases,loss_mean = train_neural_network(x, y, input_size, hidden_layers, output_size, activation_function, epochs=10, learning_rate=learning_rate, batch_size=batch_size)\n",
    "\n",
    "# Predict the test values using trained weights and biases\n",
    "test_predictions = predict(x_test, trained_weights, trained_biases, activation_function)\n",
    "\n",
    "# Calculate accuracy on the test set\n",
    "test_accuracy = compute_accuracy(y_test, test_predictions)\n",
    "#print(f\"Test Accuracy: {test_accuracy}%\")\n",
    "\n",
    "table.append([5,input_size,activation_function,hidden_layers,learning_rate,batch_size,loss_mean,test_accuracy])\n"
   ]
  },
  {
   "cell_type": "code",
   "execution_count": 35,
   "id": "1f358c06-e256-4674-b916-7704aff9e215",
   "metadata": {},
   "outputs": [
    {
     "name": "stderr",
     "output_type": "stream",
     "text": [
      "C:\\Users\\90544\\AppData\\Local\\Temp\\ipykernel_316\\28911492.py:8: RuntimeWarning: overflow encountered in exp\n",
      "  return 1 / (1 + np.exp(-x))\n"
     ]
    }
   ],
   "source": [
    "# Define input size, hidden layers, output size, activation function\n",
    "input_size = 256*256\n",
    "hidden_layers = [64]\n",
    "output_size = 6\n",
    "activation_function = 'sigmoid'\n",
    "batch_size = 128\n",
    "learning_rate=0.005\n",
    "\n",
    "# Train the neural network \n",
    "trained_weights, trained_biases,loss_mean = train_neural_network(x, y, input_size, hidden_layers, output_size, activation_function, epochs=10, learning_rate=learning_rate, batch_size=batch_size)\n",
    "\n",
    "# Predict the test values using trained weights and biases\n",
    "test_predictions = predict(x_test, trained_weights, trained_biases, activation_function)\n",
    "\n",
    "# Calculate accuracy on the test set\n",
    "test_accuracy = compute_accuracy(y_test, test_predictions)\n",
    "#print(f\"Test Accuracy: {test_accuracy}%\")\n",
    "\n",
    "table.append([6,input_size,activation_function,hidden_layers,learning_rate,batch_size,loss_mean,test_accuracy])\n"
   ]
  },
  {
   "cell_type": "code",
   "execution_count": 36,
   "id": "16c96af0-1ef4-4b7a-844c-8fbf45fe0ea3",
   "metadata": {},
   "outputs": [],
   "source": [
    "# Define input size, hidden layers, output size, activation function\n",
    "input_size = 256*256\n",
    "hidden_layers = [128]\n",
    "output_size = 6\n",
    "activation_function = 'relu'\n",
    "batch_size = 128\n",
    "learning_rate=0.005\n",
    "\n",
    "# Train the neural network \n",
    "trained_weights, trained_biases,loss_mean = train_neural_network(x, y, input_size, hidden_layers, output_size, activation_function, epochs=10, learning_rate=learning_rate, batch_size=batch_size)\n",
    "\n",
    "# Predict the test values using trained weights and biases\n",
    "test_predictions = predict(x_test, trained_weights, trained_biases, activation_function)\n",
    "\n",
    "# Calculate accuracy on the test set\n",
    "test_accuracy = compute_accuracy(y_test, test_predictions)\n",
    "#print(f\"Test Accuracy: {test_accuracy}%\")\n",
    "\n",
    "table.append([7,input_size,activation_function,hidden_layers,learning_rate,batch_size,loss_mean,test_accuracy])\n"
   ]
  },
  {
   "cell_type": "code",
   "execution_count": 37,
   "id": "fb7f35f4-04d5-4438-b40a-f1cad32a9e1e",
   "metadata": {},
   "outputs": [],
   "source": [
    "# Define input size, hidden layers, output size, activation function\n",
    "input_size = 256*256\n",
    "hidden_layers = [128]\n",
    "output_size = 6\n",
    "activation_function = 'softmax'\n",
    "batch_size = 128\n",
    "learning_rate=0.005\n",
    "\n",
    "# Train the neural network \n",
    "trained_weights, trained_biases,loss_mean = train_neural_network(x, y, input_size, hidden_layers, output_size, activation_function, epochs=10, learning_rate=learning_rate, batch_size=batch_size)\n",
    "\n",
    "# Predict the test values using trained weights and biases\n",
    "test_predictions = predict(x_test, trained_weights, trained_biases, activation_function)\n",
    "\n",
    "# Calculate accuracy on the test set\n",
    "test_accuracy = compute_accuracy(y_test, test_predictions)\n",
    "#print(f\"Test Accuracy: {test_accuracy}%\")\n",
    "\n",
    "table.append([8,input_size,activation_function,hidden_layers,learning_rate,batch_size,loss_mean,test_accuracy])\n"
   ]
  },
  {
   "cell_type": "code",
   "execution_count": 38,
   "id": "628ef610-b077-4f1c-b0ae-61bd3875df49",
   "metadata": {},
   "outputs": [],
   "source": [
    "# Define input size, hidden layers, output size, activation function\n",
    "input_size = 256*256\n",
    "hidden_layers = [128]\n",
    "output_size = 6\n",
    "activation_function = 'relu'\n",
    "batch_size = 64\n",
    "learning_rate=0.02\n",
    "\n",
    "# Train the neural network \n",
    "trained_weights, trained_biases,loss_mean = train_neural_network(x, y, input_size, hidden_layers, output_size, activation_function, epochs=10, learning_rate=learning_rate, batch_size=batch_size)\n",
    "\n",
    "# Predict the test values using trained weights and biases\n",
    "test_predictions = predict(x_test, trained_weights, trained_biases, activation_function)\n",
    "\n",
    "# Calculate accuracy on the test set\n",
    "test_accuracy = compute_accuracy(y_test, test_predictions)\n",
    "#print(f\"Test Accuracy: {test_accuracy}%\")\n",
    "\n",
    "table.append([9,input_size,activation_function,hidden_layers,learning_rate,batch_size,loss_mean,test_accuracy])\n"
   ]
  },
  {
   "cell_type": "code",
   "execution_count": 39,
   "id": "9bfccb06-674a-4b8e-9791-8d5b69e08906",
   "metadata": {},
   "outputs": [],
   "source": [
    "# Define input size, hidden layers, output size, activation function\n",
    "input_size = 256*256\n",
    "hidden_layers = [128]\n",
    "output_size = 6\n",
    "activation_function = 'softmax'\n",
    "batch_size = 128\n",
    "learning_rate=0.01\n",
    "\n",
    "# Train the neural network \n",
    "trained_weights, trained_biases,loss_mean = train_neural_network(x, y, input_size, hidden_layers, output_size, activation_function, epochs=10, learning_rate=learning_rate, batch_size=batch_size)\n",
    "\n",
    "# Predict the test values using trained weights and biases\n",
    "test_predictions = predict(x_test, trained_weights, trained_biases, activation_function)\n",
    "\n",
    "# Calculate accuracy on the test set\n",
    "test_accuracy = compute_accuracy(y_test, test_predictions)\n",
    "#print(f\"Test Accuracy: {test_accuracy}%\")\n",
    "\n",
    "table.append([10,input_size,activation_function,hidden_layers,learning_rate,batch_size,loss_mean,test_accuracy])\n"
   ]
  },
  {
   "cell_type": "markdown",
   "id": "6cc012f2-eb4d-4a5e-b8b5-18149e68337e",
   "metadata": {},
   "source": [
    "# Result of neural network that contains one hidden layer"
   ]
  },
  {
   "cell_type": "code",
   "execution_count": 40,
   "id": "dca6f729-6322-432e-9280-cd70ae47a88d",
   "metadata": {},
   "outputs": [
    {
     "name": "stdout",
     "output_type": "stream",
     "text": [
      "+--------------+--------------+--------------------------+---------------------+-----------------+--------------+--------------------+------------+\n",
      "|   Experiment |   Input Size | Model Activation Func.   | Hidden Layer Size   |   Learning Rate |   Batch Size |   Mean of the loss |   Accuracy |\n",
      "+==============+==============+==========================+=====================+=================+==============+====================+============+\n",
      "|            1 |        65536 | sigmoid                  | [128]               |           0.005 |          128 |        5.63961e-09 |    16.6667 |\n",
      "+--------------+--------------+--------------------------+---------------------+-----------------+--------------+--------------------+------------+\n",
      "|            2 |        65536 | sigmoid                  | [128]               |           0.005 |          128 |       -1.32599e-09 |    16.6667 |\n",
      "+--------------+--------------+--------------------------+---------------------+-----------------+--------------+--------------------+------------+\n",
      "|            3 |        65536 | sigmoid                  | [128]               |           0.005 |           64 |        7.55761e-08 |    16.6667 |\n",
      "+--------------+--------------+--------------------------+---------------------+-----------------+--------------+--------------------+------------+\n",
      "|            4 |        65536 | sigmoid                  | [128]               |           0.005 |           32 |        0.000180267 |    16.6667 |\n",
      "+--------------+--------------+--------------------------+---------------------+-----------------+--------------+--------------------+------------+\n",
      "|            5 |        65536 | sigmoid                  | [128]               |           0.02  |          128 |        2.56792e-05 |    16.6667 |\n",
      "+--------------+--------------+--------------------------+---------------------+-----------------+--------------+--------------------+------------+\n",
      "|            6 |        65536 | sigmoid                  | [64]                |           0.005 |          128 |        0.00283007  |    16.6667 |\n",
      "+--------------+--------------+--------------------------+---------------------+-----------------+--------------+--------------------+------------+\n",
      "|            7 |        65536 | relu                     | [128]               |           0.005 |          128 |        3.07011     |    16.6667 |\n",
      "+--------------+--------------+--------------------------+---------------------+-----------------+--------------+--------------------+------------+\n",
      "|            8 |        65536 | softmax                  | [128]               |           0.005 |          128 |        0.1357      |    16.6667 |\n",
      "+--------------+--------------+--------------------------+---------------------+-----------------+--------------+--------------------+------------+\n",
      "|            9 |        65536 | relu                     | [128]               |           0.02  |           64 |        3.07011     |    16.6667 |\n",
      "+--------------+--------------+--------------------------+---------------------+-----------------+--------------+--------------------+------------+\n",
      "|           10 |        65536 | softmax                  | [128]               |           0.01  |          128 |        0.114329    |    16.7083 |\n",
      "+--------------+--------------+--------------------------+---------------------+-----------------+--------------+--------------------+------------+\n"
     ]
    }
   ],
   "source": [
    "tablo = tabulate(table, headers=['Experiment', 'Input Size' , 'Model Activation Func.', 'Hidden Layer Size',\n",
    "                              'Learning Rate', 'Batch Size', 'Mean of the loss', 'Accuracy'], tablefmt='grid')\n",
    "print(tablo)"
   ]
  },
  {
   "cell_type": "code",
   "execution_count": 41,
   "id": "bb9e5c9f-00d9-4cba-93f9-afd1689fd9c0",
   "metadata": {},
   "outputs": [],
   "source": [
    "table=[]"
   ]
  },
  {
   "cell_type": "markdown",
   "id": "bb19ddd2-7a55-486a-aa2c-5fab56f7345e",
   "metadata": {
    "jp-MarkdownHeadingCollapsed": true
   },
   "source": [
    "# Neural network that contains two hidden layers."
   ]
  },
  {
   "cell_type": "code",
   "execution_count": 42,
   "id": "33ac508c-95b2-41d4-ac50-68500bd609e8",
   "metadata": {},
   "outputs": [
    {
     "name": "stderr",
     "output_type": "stream",
     "text": [
      "C:\\Users\\90544\\AppData\\Local\\Temp\\ipykernel_316\\28911492.py:8: RuntimeWarning: overflow encountered in exp\n",
      "  return 1 / (1 + np.exp(-x))\n"
     ]
    }
   ],
   "source": [
    "# Define input size, hidden layers, output size, activation function\n",
    "input_size = 256*256\n",
    "hidden_layers = [128,128]\n",
    "output_size = 6\n",
    "activation_function = 'sigmoid'\n",
    "batch_size = 128\n",
    "learning_rate=0.005\n",
    "\n",
    "# Train the neural network \n",
    "trained_weights, trained_biases,loss_mean = train_neural_network(x, y, input_size, hidden_layers, output_size, activation_function, epochs=10, learning_rate=learning_rate, batch_size=batch_size)\n",
    "\n",
    "# Predict the test values using trained weights and biases\n",
    "test_predictions = predict(x_test, trained_weights, trained_biases, activation_function)\n",
    "\n",
    "# Calculate accuracy on the test set\n",
    "test_accuracy = compute_accuracy(y_test, test_predictions)\n",
    "#print(f\"Test Accuracy: {test_accuracy}%\")\n",
    "\n",
    "table.append([1,input_size,activation_function,hidden_layers,learning_rate,batch_size,loss_mean,test_accuracy])"
   ]
  },
  {
   "cell_type": "code",
   "execution_count": 43,
   "id": "590a81b5-2137-444d-a01a-a9f14a3f0019",
   "metadata": {},
   "outputs": [
    {
     "name": "stderr",
     "output_type": "stream",
     "text": [
      "C:\\Users\\90544\\AppData\\Local\\Temp\\ipykernel_316\\28911492.py:8: RuntimeWarning: overflow encountered in exp\n",
      "  return 1 / (1 + np.exp(-x))\n"
     ]
    }
   ],
   "source": [
    "# Define input size, hidden layers, output size, activation function\n",
    "input_size = 256*256\n",
    "hidden_layers = [128,128]\n",
    "output_size = 6\n",
    "activation_function = 'sigmoid'\n",
    "batch_size = 64\n",
    "learning_rate=0.005\n",
    "\n",
    "# Train the neural network \n",
    "trained_weights, trained_biases,loss_mean = train_neural_network(x, y, input_size, hidden_layers, output_size, activation_function, epochs=10, learning_rate=learning_rate, batch_size=batch_size)\n",
    "\n",
    "# Predict the test values using trained weights and biases\n",
    "test_predictions = predict(x_test, trained_weights, trained_biases, activation_function)\n",
    "\n",
    "# Calculate accuracy on the test set\n",
    "test_accuracy = compute_accuracy(y_test, test_predictions)\n",
    "#print(f\"Test Accuracy: {test_accuracy}%\")\n",
    "\n",
    "table.append([2,input_size,activation_function,hidden_layers,learning_rate,batch_size,loss_mean,test_accuracy])"
   ]
  },
  {
   "cell_type": "code",
   "execution_count": 44,
   "id": "7257a284-43be-4a0a-a4dc-8d9a44d04b82",
   "metadata": {},
   "outputs": [
    {
     "name": "stderr",
     "output_type": "stream",
     "text": [
      "C:\\Users\\90544\\AppData\\Local\\Temp\\ipykernel_316\\28911492.py:8: RuntimeWarning: overflow encountered in exp\n",
      "  return 1 / (1 + np.exp(-x))\n"
     ]
    }
   ],
   "source": [
    "# Define input size, hidden layers, output size, activation function\n",
    "input_size = 256*256\n",
    "hidden_layers = [128,128]\n",
    "output_size = 6\n",
    "activation_function = 'sigmoid'\n",
    "batch_size = 32\n",
    "learning_rate=0.005\n",
    "\n",
    "# Train the neural network \n",
    "trained_weights, trained_biases,loss_mean = train_neural_network(x, y, input_size, hidden_layers, output_size, activation_function, epochs=10, learning_rate=learning_rate, batch_size=batch_size)\n",
    "\n",
    "# Predict the test values using trained weights and biases\n",
    "test_predictions = predict(x_test, trained_weights, trained_biases, activation_function)\n",
    "\n",
    "# Calculate accuracy on the test set\n",
    "test_accuracy = compute_accuracy(y_test, test_predictions)\n",
    "#print(f\"Test Accuracy: {test_accuracy}%\")\n",
    "\n",
    "table.append([3,input_size,activation_function,hidden_layers,learning_rate,batch_size,loss_mean,test_accuracy])"
   ]
  },
  {
   "cell_type": "code",
   "execution_count": 45,
   "id": "e8438198-067f-4d97-9adb-63768d513c91",
   "metadata": {},
   "outputs": [
    {
     "name": "stderr",
     "output_type": "stream",
     "text": [
      "C:\\Users\\90544\\AppData\\Local\\Temp\\ipykernel_316\\28911492.py:8: RuntimeWarning: overflow encountered in exp\n",
      "  return 1 / (1 + np.exp(-x))\n"
     ]
    }
   ],
   "source": [
    "# Define input size, hidden layers, output size, activation function\n",
    "input_size = 256*256\n",
    "hidden_layers = [128,128]\n",
    "output_size = 6\n",
    "activation_function = 'sigmoid'\n",
    "batch_size = 128\n",
    "learning_rate=0.02\n",
    "\n",
    "# Train the neural network \n",
    "trained_weights, trained_biases,loss_mean = train_neural_network(x, y, input_size, hidden_layers, output_size, activation_function, epochs=10, learning_rate=learning_rate, batch_size=batch_size)\n",
    "\n",
    "# Predict the test values using trained weights and biases\n",
    "test_predictions = predict(x_test, trained_weights, trained_biases, activation_function)\n",
    "\n",
    "# Calculate accuracy on the test set\n",
    "test_accuracy = compute_accuracy(y_test, test_predictions)\n",
    "#print(f\"Test Accuracy: {test_accuracy}%\")\n",
    "\n",
    "table.append([4,input_size,activation_function,hidden_layers,learning_rate,batch_size,loss_mean,test_accuracy])"
   ]
  },
  {
   "cell_type": "code",
   "execution_count": 46,
   "id": "08784ba7-28e4-40e0-befb-f6a67bf2d63f",
   "metadata": {},
   "outputs": [
    {
     "name": "stderr",
     "output_type": "stream",
     "text": [
      "C:\\Users\\90544\\AppData\\Local\\Temp\\ipykernel_316\\28911492.py:8: RuntimeWarning: overflow encountered in exp\n",
      "  return 1 / (1 + np.exp(-x))\n"
     ]
    }
   ],
   "source": [
    "# Define input size, hidden layers, output size, activation function\n",
    "input_size = 256*256\n",
    "hidden_layers = [64,64]\n",
    "output_size = 6\n",
    "activation_function = 'sigmoid'\n",
    "batch_size = 128\n",
    "learning_rate=0.005\n",
    "\n",
    "# Train the neural network \n",
    "trained_weights, trained_biases,loss_mean = train_neural_network(x, y, input_size, hidden_layers, output_size, activation_function, epochs=10, learning_rate=learning_rate, batch_size=batch_size)\n",
    "\n",
    "# Predict the test values using trained weights and biases\n",
    "test_predictions = predict(x_test, trained_weights, trained_biases, activation_function)\n",
    "\n",
    "# Calculate accuracy on the test set\n",
    "test_accuracy = compute_accuracy(y_test, test_predictions)\n",
    "#print(f\"Test Accuracy: {test_accuracy}%\")\n",
    "\n",
    "table.append([5,input_size,activation_function,hidden_layers,learning_rate,batch_size,loss_mean,test_accuracy])"
   ]
  },
  {
   "cell_type": "code",
   "execution_count": 47,
   "id": "a008d780-d275-47ee-85c8-2472fafd963c",
   "metadata": {},
   "outputs": [],
   "source": [
    "# Define input size, hidden layers, output size, activation function\n",
    "input_size = 256*256\n",
    "hidden_layers = [128,128]\n",
    "output_size = 6\n",
    "activation_function = 'relu'\n",
    "batch_size = 128\n",
    "learning_rate=0.005\n",
    "\n",
    "# Train the neural network \n",
    "trained_weights, trained_biases,loss_mean = train_neural_network(x, y, input_size, hidden_layers, output_size, activation_function, epochs=10, learning_rate=learning_rate, batch_size=batch_size)\n",
    "\n",
    "# Predict the test values using trained weights and biases\n",
    "test_predictions = predict(x_test, trained_weights, trained_biases, activation_function)\n",
    "\n",
    "# Calculate accuracy on the test set\n",
    "test_accuracy = compute_accuracy(y_test, test_predictions)\n",
    "#print(f\"Test Accuracy: {test_accuracy}%\")\n",
    "\n",
    "table.append([6,input_size,activation_function,hidden_layers,learning_rate,batch_size,loss_mean,test_accuracy])"
   ]
  },
  {
   "cell_type": "code",
   "execution_count": 48,
   "id": "a05f5716-6ca6-4aa7-a7d1-ca4c7eaebe99",
   "metadata": {},
   "outputs": [],
   "source": [
    "# Define input size, hidden layers, output size, activation function\n",
    "input_size = 256*256\n",
    "hidden_layers = [128,128]\n",
    "output_size = 6\n",
    "activation_function = 'softmax'\n",
    "batch_size = 128\n",
    "learning_rate=0.005\n",
    "\n",
    "# Train the neural network \n",
    "trained_weights, trained_biases,loss_mean = train_neural_network(x, y, input_size, hidden_layers, output_size, activation_function, epochs=10, learning_rate=learning_rate, batch_size=batch_size)\n",
    "\n",
    "# Predict the test values using trained weights and biases\n",
    "test_predictions = predict(x_test, trained_weights, trained_biases, activation_function)\n",
    "\n",
    "# Calculate accuracy on the test set\n",
    "test_accuracy = compute_accuracy(y_test, test_predictions)\n",
    "#print(f\"Test Accuracy: {test_accuracy}%\")\n",
    "\n",
    "table.append([7,input_size,activation_function,hidden_layers,learning_rate,batch_size,loss_mean,test_accuracy])"
   ]
  },
  {
   "cell_type": "code",
   "execution_count": 49,
   "id": "8469dbec-f37b-48a2-be61-833fec6cc499",
   "metadata": {},
   "outputs": [
    {
     "name": "stderr",
     "output_type": "stream",
     "text": [
      "C:\\Users\\90544\\AppData\\Local\\Temp\\ipykernel_316\\28911492.py:8: RuntimeWarning: overflow encountered in exp\n",
      "  return 1 / (1 + np.exp(-x))\n"
     ]
    }
   ],
   "source": [
    "# Define input size, hidden layers, output size, activation function\n",
    "input_size = 256*256\n",
    "hidden_layers = [128,128]\n",
    "output_size = 6\n",
    "activation_function = 'sigmoid'\n",
    "batch_size = 128\n",
    "learning_rate=0.01\n",
    "\n",
    "# Train the neural network \n",
    "trained_weights, trained_biases,loss_mean = train_neural_network(x, y, input_size, hidden_layers, output_size, activation_function, epochs=10, learning_rate=learning_rate, batch_size=batch_size)\n",
    "\n",
    "# Predict the test values using trained weights and biases\n",
    "test_predictions = predict(x_test, trained_weights, trained_biases, activation_function)\n",
    "\n",
    "# Calculate accuracy on the test set\n",
    "test_accuracy = compute_accuracy(y_test, test_predictions)\n",
    "#print(f\"Test Accuracy: {test_accuracy}%\")\n",
    "\n",
    "table.append([8,input_size,activation_function,hidden_layers,learning_rate,batch_size,loss_mean,test_accuracy])"
   ]
  },
  {
   "cell_type": "code",
   "execution_count": 50,
   "id": "f6ac6bf3-5a73-4a8d-8d85-1e42255086b6",
   "metadata": {},
   "outputs": [
    {
     "name": "stderr",
     "output_type": "stream",
     "text": [
      "C:\\Users\\90544\\AppData\\Local\\Temp\\ipykernel_316\\28911492.py:8: RuntimeWarning: overflow encountered in exp\n",
      "  return 1 / (1 + np.exp(-x))\n"
     ]
    }
   ],
   "source": [
    "# Define input size, hidden layers, output size, activation function\n",
    "input_size = 256*256\n",
    "hidden_layers = [64,64]\n",
    "output_size = 6\n",
    "activation_function = 'sigmoid'\n",
    "batch_size = 128\n",
    "learning_rate=0.01\n",
    "\n",
    "# Train the neural network \n",
    "trained_weights, trained_biases,loss_mean = train_neural_network(x, y, input_size, hidden_layers, output_size, activation_function, epochs=10, learning_rate=learning_rate, batch_size=batch_size)\n",
    "\n",
    "# Predict the test values using trained weights and biases\n",
    "test_predictions = predict(x_test, trained_weights, trained_biases, activation_function)\n",
    "\n",
    "# Calculate accuracy on the test set\n",
    "test_accuracy = compute_accuracy(y_test, test_predictions)\n",
    "#print(f\"Test Accuracy: {test_accuracy}%\")\n",
    "\n",
    "table.append([9,input_size,activation_function,hidden_layers,learning_rate,batch_size,loss_mean,test_accuracy])"
   ]
  },
  {
   "cell_type": "code",
   "execution_count": 51,
   "id": "d37433e2-2b55-48d8-8352-d8427910ebfe",
   "metadata": {},
   "outputs": [],
   "source": [
    "# Define input size, hidden layers, output size, activation function\n",
    "input_size = 256*256\n",
    "hidden_layers = [64,128]\n",
    "output_size = 6\n",
    "activation_function = 'softmax'\n",
    "batch_size = 128\n",
    "learning_rate=0.02\n",
    "\n",
    "# Train the neural network \n",
    "trained_weights, trained_biases,loss_mean = train_neural_network(x, y, input_size, hidden_layers, output_size, activation_function, epochs=10, learning_rate=learning_rate, batch_size=batch_size)\n",
    "\n",
    "# Predict the test values using trained weights and biases\n",
    "test_predictions = predict(x_test, trained_weights, trained_biases, activation_function)\n",
    "\n",
    "# Calculate accuracy on the test set\n",
    "test_accuracy = compute_accuracy(y_test, test_predictions)\n",
    "#print(f\"Test Accuracy: {test_accuracy}%\")\n",
    "\n",
    "table.append([10,input_size,activation_function,hidden_layers,learning_rate,batch_size,loss_mean,test_accuracy])"
   ]
  },
  {
   "cell_type": "markdown",
   "id": "8718b037-af4e-48a8-9d25-c48ef1041f25",
   "metadata": {},
   "source": [
    "# Result of neural network that contains two hidden layer"
   ]
  },
  {
   "cell_type": "code",
   "execution_count": 52,
   "id": "91f31ef1-b3ae-450d-8ee1-0e6e2de9e709",
   "metadata": {
    "scrolled": true
   },
   "outputs": [
    {
     "name": "stdout",
     "output_type": "stream",
     "text": [
      "+--------------+--------------+--------------------------+---------------------+-----------------+--------------+--------------------+------------+\n",
      "|   Experiment |   Input Size | Model Activation Func.   | Hidden Layer Size   |   Learning Rate |   Batch Size |   Mean of the loss |   Accuracy |\n",
      "+==============+==============+==========================+=====================+=================+==============+====================+============+\n",
      "|            1 |        65536 | sigmoid                  | [128, 128]          |           0.005 |          128 |         0.0346749  |    16.6667 |\n",
      "+--------------+--------------+--------------------------+---------------------+-----------------+--------------+--------------------+------------+\n",
      "|            2 |        65536 | sigmoid                  | [128, 128]          |           0.005 |           64 |         0.00430238 |    16.6667 |\n",
      "+--------------+--------------+--------------------------+---------------------+-----------------+--------------+--------------------+------------+\n",
      "|            3 |        65536 | sigmoid                  | [128, 128]          |           0.005 |           32 |         0.00713756 |    16.6667 |\n",
      "+--------------+--------------+--------------------------+---------------------+-----------------+--------------+--------------------+------------+\n",
      "|            4 |        65536 | sigmoid                  | [128, 128]          |           0.02  |          128 |         0.00145725 |    16.6667 |\n",
      "+--------------+--------------+--------------------------+---------------------+-----------------+--------------+--------------------+------------+\n",
      "|            5 |        65536 | sigmoid                  | [64, 64]            |           0.005 |          128 |         0.0870288  |    16.8333 |\n",
      "+--------------+--------------+--------------------------+---------------------+-----------------+--------------+--------------------+------------+\n",
      "|            6 |        65536 | relu                     | [128, 128]          |           0.005 |          128 |       nan          |    16.6667 |\n",
      "+--------------+--------------+--------------------------+---------------------+-----------------+--------------+--------------------+------------+\n",
      "|            7 |        65536 | softmax                  | [128, 128]          |           0.005 |          128 |         0.29012    |    16.6667 |\n",
      "+--------------+--------------+--------------------------+---------------------+-----------------+--------------+--------------------+------------+\n",
      "|            8 |        65536 | sigmoid                  | [128, 128]          |           0.01  |          128 |         0.0114506  |    16.6667 |\n",
      "+--------------+--------------+--------------------------+---------------------+-----------------+--------------+--------------------+------------+\n",
      "|            9 |        65536 | sigmoid                  | [64, 64]            |           0.01  |          128 |         0.201638   |    16.6667 |\n",
      "+--------------+--------------+--------------------------+---------------------+-----------------+--------------+--------------------+------------+\n",
      "|           10 |        65536 | softmax                  | [64, 128]           |           0.02  |          128 |         0.273534   |    16.6667 |\n",
      "+--------------+--------------+--------------------------+---------------------+-----------------+--------------+--------------------+------------+\n"
     ]
    }
   ],
   "source": [
    "tablo = tabulate(table, headers=['Experiment', 'Input Size' , 'Model Activation Func.', 'Hidden Layer Size',\n",
    "                              'Learning Rate', 'Batch Size', 'Mean of the loss', 'Accuracy'], tablefmt='grid')\n",
    "print(tablo)"
   ]
  },
  {
   "cell_type": "code",
   "execution_count": 57,
   "id": "57fbd828-727a-4bda-b3ad-1b40b6311a44",
   "metadata": {},
   "outputs": [],
   "source": [
    "table=[]"
   ]
  },
  {
   "cell_type": "markdown",
   "id": "7a41129c-136a-4432-8e49-ad1af52082bc",
   "metadata": {
    "jp-MarkdownHeadingCollapsed": true
   },
   "source": [
    "# Convolutional Neural Network that contains one convolutional layer and one fully connected layer"
   ]
  },
  {
   "cell_type": "code",
   "execution_count": 56,
   "id": "985eb7cc-3e9e-44fb-b73b-35364362ee10",
   "metadata": {},
   "outputs": [],
   "source": [
    "import tensorflow as tf\n",
    "from tensorflow.keras import layers, models\n"
   ]
  },
  {
   "cell_type": "code",
   "execution_count": 58,
   "id": "0fdc0d89-d3f7-4564-a5a2-f789bc083316",
   "metadata": {},
   "outputs": [
    {
     "name": "stdout",
     "output_type": "stream",
     "text": [
      "WARNING:tensorflow:From C:\\Users\\90544\\anaconda3\\envs\\jupyterlab-\\Lib\\site-packages\\keras\\src\\backend.py:873: The name tf.get_default_graph is deprecated. Please use tf.compat.v1.get_default_graph instead.\n",
      "\n",
      "WARNING:tensorflow:From C:\\Users\\90544\\anaconda3\\envs\\jupyterlab-\\Lib\\site-packages\\keras\\src\\optimizers\\__init__.py:309: The name tf.train.Optimizer is deprecated. Please use tf.compat.v1.train.Optimizer instead.\n",
      "\n",
      "Epoch 1/10\n",
      "WARNING:tensorflow:From C:\\Users\\90544\\anaconda3\\envs\\jupyterlab-\\Lib\\site-packages\\keras\\src\\utils\\tf_utils.py:492: The name tf.ragged.RaggedTensorValue is deprecated. Please use tf.compat.v1.ragged.RaggedTensorValue instead.\n",
      "\n",
      "WARNING:tensorflow:From C:\\Users\\90544\\anaconda3\\envs\\jupyterlab-\\Lib\\site-packages\\keras\\src\\engine\\base_layer_utils.py:384: The name tf.executing_eagerly_outside_functions is deprecated. Please use tf.compat.v1.executing_eagerly_outside_functions instead.\n",
      "\n",
      "120/120 [==============================] - 210s 2s/step - loss: 8.1364 - accuracy: 0.1862 - val_loss: 10.5191 - val_accuracy: 0.0000e+00\n",
      "Epoch 2/10\n",
      "120/120 [==============================] - 192s 2s/step - loss: 8.1314 - accuracy: 0.2135 - val_loss: 10.5199 - val_accuracy: 0.0193\n",
      "Epoch 3/10\n",
      "120/120 [==============================] - 192s 2s/step - loss: 7.7125 - accuracy: 0.2353 - val_loss: 4.7326 - val_accuracy: 0.0141\n",
      "Epoch 4/10\n",
      "120/120 [==============================] - 187s 2s/step - loss: 3.8643 - accuracy: 0.2246 - val_loss: 4.6624 - val_accuracy: 0.0359\n",
      "Epoch 5/10\n",
      "120/120 [==============================] - 184s 2s/step - loss: 3.8553 - accuracy: 0.2363 - val_loss: 4.6594 - val_accuracy: 0.0672\n",
      "Epoch 6/10\n",
      "120/120 [==============================] - 184s 2s/step - loss: 3.8520 - accuracy: 0.2461 - val_loss: 4.6570 - val_accuracy: 0.1083\n",
      "Epoch 7/10\n",
      "120/120 [==============================] - 182s 2s/step - loss: 3.8790 - accuracy: 0.2047 - val_loss: 4.6719 - val_accuracy: 0.0010\n",
      "Epoch 8/10\n",
      "120/120 [==============================] - 182s 2s/step - loss: 3.8655 - accuracy: 0.2108 - val_loss: 4.6681 - val_accuracy: 0.0068\n",
      "Epoch 9/10\n",
      "120/120 [==============================] - 183s 2s/step - loss: 3.8629 - accuracy: 0.2190 - val_loss: 4.6824 - val_accuracy: 0.0000e+00\n",
      "Epoch 10/10\n",
      "120/120 [==============================] - 184s 2s/step - loss: 3.8593 - accuracy: 0.2267 - val_loss: 4.6780 - val_accuracy: 0.0271\n",
      "75/75 [==============================] - 11s 141ms/step - loss: 4.0255 - accuracy: 0.1904\n",
      "Test Accuracy: 0.19041666388511658\n",
      "Test Loss: 4.0254693031311035\n"
     ]
    }
   ],
   "source": [
    "# Reshape the input data to be suitable for a Conv2D layer\n",
    "x_train_reshaped = x.reshape((9600, 256, 256, 1))  # Adjust the shape based on the actual size of images\n",
    "\n",
    "# Define the model\n",
    "model = models.Sequential()\n",
    "\n",
    "# Add Convolutional Layer\n",
    "model.add(layers.Conv2D(32, (3, 3), activation='relu', input_shape=(256, 256, 1)))\n",
    "\n",
    "# Flatten the output to feed into the fully connected layer\n",
    "model.add(layers.Flatten())\n",
    "\n",
    "# Add Fully Connected Layer\n",
    "model.add(layers.Dense(64, activation='relu'))\n",
    "\n",
    "# Output layer with softmax activation for multi-class classification\n",
    "model.add(layers.Dense(6, activation='relu'))\n",
    "\n",
    "# Compile the model\n",
    "model.compile(optimizer='adam', loss='categorical_crossentropy', metrics=['accuracy'])\n",
    "\n",
    "# Train the model\n",
    "model.fit(x_train_reshaped, y, epochs=10, batch_size=64, validation_split=0.2)\n",
    "\n",
    "# Evaluate the model on the test set\n",
    "x_test_reshaped = x_test.reshape((2400, 256, 256, 1))\n",
    "test_loss, test_accuracy = model.evaluate(x_test_reshaped, y_test)\n",
    "\n",
    "print(f'Test Accuracy: {test_accuracy}')\n",
    "print(f'Test Loss: {test_loss}')\n",
    "\n",
    "table.append([1,256*256,\"relu\",32,64,test_loss,test_accuracy])\n"
   ]
  },
  {
   "cell_type": "code",
   "execution_count": 60,
   "id": "12a78f3c-eb88-46a9-8d17-52081f72dd99",
   "metadata": {},
   "outputs": [
    {
     "name": "stdout",
     "output_type": "stream",
     "text": [
      "Epoch 1/10\n",
      "240/240 [==============================] - 315s 1s/step - loss: 8.9529 - accuracy: 0.1668 - val_loss: 7.3565 - val_accuracy: 0.2083\n",
      "Epoch 2/10\n",
      "240/240 [==============================] - 309s 1s/step - loss: 8.9197 - accuracy: 0.1749 - val_loss: 7.3544 - val_accuracy: 0.2062\n",
      "Epoch 3/10\n",
      "240/240 [==============================] - 311s 1s/step - loss: 8.9140 - accuracy: 0.1909 - val_loss: 7.3533 - val_accuracy: 0.2135\n",
      "Epoch 4/10\n",
      "240/240 [==============================] - 312s 1s/step - loss: 8.9076 - accuracy: 0.1962 - val_loss: 7.3472 - val_accuracy: 0.2396\n",
      "Epoch 5/10\n",
      "240/240 [==============================] - 309s 1s/step - loss: 8.9133 - accuracy: 0.2203 - val_loss: 7.3356 - val_accuracy: 0.2500\n",
      "Epoch 6/10\n",
      "240/240 [==============================] - 312s 1s/step - loss: 8.9257 - accuracy: 0.2307 - val_loss: 7.4312 - val_accuracy: 0.2083\n",
      "Epoch 7/10\n",
      "240/240 [==============================] - 309s 1s/step - loss: 8.9174 - accuracy: 0.1914 - val_loss: 7.3500 - val_accuracy: 0.2297\n",
      "Epoch 8/10\n",
      "240/240 [==============================] - 309s 1s/step - loss: 8.9057 - accuracy: 0.2217 - val_loss: 7.3396 - val_accuracy: 0.2458\n",
      "Epoch 9/10\n",
      "240/240 [==============================] - 316s 1s/step - loss: 8.9061 - accuracy: 0.2281 - val_loss: 7.3568 - val_accuracy: 0.2068\n",
      "Epoch 10/10\n",
      "240/240 [==============================] - 320s 1s/step - loss: 8.8924 - accuracy: 0.2361 - val_loss: 7.3267 - val_accuracy: 0.2844\n",
      "75/75 [==============================] - 11s 147ms/step - loss: 8.5810 - accuracy: 0.2421\n",
      "Test Accuracy: 0.2420833259820938\n",
      "Test Loss: 8.581007957458496\n"
     ]
    }
   ],
   "source": [
    "# Reshape the input data to be suitable for a Conv2D layer\n",
    "x_train_reshaped = x.reshape((9600, 256, 256, 1))  # Adjust the shape based on the actual size of images\n",
    "\n",
    "# Define the model\n",
    "model = models.Sequential()\n",
    "\n",
    "# Add Convolutional Layer\n",
    "model.add(layers.Conv2D(32, (3, 3), activation='relu', input_shape=(256, 256, 1)))\n",
    "\n",
    "# Flatten the output to feed into the fully connected layer\n",
    "model.add(layers.Flatten())\n",
    "\n",
    "# Add Fully Connected Layer\n",
    "model.add(layers.Dense(64, activation='relu'))\n",
    "\n",
    "# Output layer with softmax activation for multi-class classification\n",
    "model.add(layers.Dense(6, activation='relu'))\n",
    "\n",
    "# Compile the model\n",
    "model.compile(optimizer='adam', loss='categorical_crossentropy', metrics=['accuracy'])\n",
    "\n",
    "# Train the model\n",
    "model.fit(x_train_reshaped, y, epochs=10, batch_size=32, validation_split=0.2)\n",
    "\n",
    "# Evaluate the model on the test set\n",
    "x_test_reshaped = x_test.reshape((2400, 256, 256, 1))\n",
    "test_loss, test_accuracy = model.evaluate(x_test_reshaped, y_test)\n",
    "\n",
    "print(f'Test Accuracy: {test_accuracy}')\n",
    "print(f'Test Loss: {test_loss}')\n",
    "\n",
    "table.append([1,256*256,\"relu\",32,32,test_loss,test_accuracy])"
   ]
  },
  {
   "cell_type": "code",
   "execution_count": null,
   "id": "96da5f3b-2a97-4d25-bb22-1d289e9431e5",
   "metadata": {},
   "outputs": [
    {
     "name": "stdout",
     "output_type": "stream",
     "text": [
      "Epoch 1/10\n",
      "120/120 [==============================] - 193s 2s/step - loss: 2.1101 - accuracy: 0.2073 - val_loss: 1.8703 - val_accuracy: 0.0000e+00\n",
      "Epoch 2/10\n",
      "120/120 [==============================] - 196s 2s/step - loss: 1.7870 - accuracy: 0.2083 - val_loss: 1.8428 - val_accuracy: 0.0000e+00\n",
      "Epoch 3/10\n",
      "120/120 [==============================] - 191s 2s/step - loss: 1.7872 - accuracy: 0.2083 - val_loss: 1.8394 - val_accuracy: 0.0000e+00\n",
      "Epoch 4/10\n",
      "120/120 [==============================] - 190s 2s/step - loss: 1.7874 - accuracy: 0.2083 - val_loss: 1.8385 - val_accuracy: 0.0000e+00\n",
      "Epoch 5/10\n",
      "120/120 [==============================] - 189s 2s/step - loss: 1.7871 - accuracy: 0.2083 - val_loss: 1.8444 - val_accuracy: 0.0000e+00\n",
      "Epoch 6/10\n",
      "120/120 [==============================] - 190s 2s/step - loss: 1.7870 - accuracy: 0.2083 - val_loss: 1.8467 - val_accuracy: 0.0000e+00\n",
      "Epoch 7/10\n",
      "120/120 [==============================] - 189s 2s/step - loss: 1.7872 - accuracy: 0.2083 - val_loss: 1.8650 - val_accuracy: 0.0000e+00\n",
      "Epoch 8/10\n",
      "120/120 [==============================] - 200s 2s/step - loss: 1.7875 - accuracy: 0.2083 - val_loss: 1.8497 - val_accuracy: 0.0000e+00\n",
      "Epoch 9/10\n",
      "120/120 [==============================] - 193s 2s/step - loss: 1.7882 - accuracy: 0.2083 - val_loss: 1.8307 - val_accuracy: 0.0000e+00\n",
      "Epoch 10/10\n",
      " 84/120 [====================>.........] - ETA: 55s - loss: 1.7879 - accuracy: 0.2067"
     ]
    }
   ],
   "source": [
    "# Reshape the input data to be suitable for a Conv2D layer\n",
    "x_train_reshaped = x.reshape((9600, 256, 256, 1))  # Adjust the shape based on the actual size of images\n",
    "\n",
    "# Define the model\n",
    "model = models.Sequential()\n",
    "\n",
    "# Add Convolutional Layer\n",
    "model.add(layers.Conv2D(32, (3, 3), activation='sigmoid', input_shape=(256, 256, 1)))\n",
    "\n",
    "# Flatten the output to feed into the fully connected layer\n",
    "model.add(layers.Flatten())\n",
    "\n",
    "# Add Fully Connected Layer\n",
    "model.add(layers.Dense(64, activation='sigmoid'))\n",
    "\n",
    "# Output layer with softmax activation for multi-class classification\n",
    "model.add(layers.Dense(6, activation='sigmoid'))\n",
    "\n",
    "# Compile the model\n",
    "model.compile(optimizer='adam', loss='categorical_crossentropy', metrics=['accuracy'])\n",
    "\n",
    "# Train the model\n",
    "model.fit(x_train_reshaped, y, epochs=10, batch_size=64, validation_split=0.2)\n",
    "\n",
    "# Evaluate the model on the test set\n",
    "x_test_reshaped = x_test.reshape((2400, 256, 256, 1))\n",
    "test_loss, test_accuracy = model.evaluate(x_test_reshaped, y_test)\n",
    "\n",
    "print(f'Test Accuracy: {test_accuracy}')\n",
    "print(f'Test Loss: {test_loss}')\n",
    "\n",
    "table.append([1,256*256,\"sigmoid\",32,64,test_loss,test_accuracy])"
   ]
  },
  {
   "cell_type": "markdown",
   "id": "d0d58a84-a50e-438a-9a26-ef730fdbd948",
   "metadata": {},
   "source": [
    "# Result of Convolutional Neural Network that contains one convolutional layer and one fully connected layer"
   ]
  },
  {
   "cell_type": "code",
   "execution_count": 18,
   "id": "e63d3c00-93eb-45ce-8ca2-1d0acc7e0ba9",
   "metadata": {},
   "outputs": [
    {
     "name": "stdout",
     "output_type": "stream",
     "text": [
      "+--------------+--------------+--------------------------+---------------------+--------------+--------------------+------------+\n",
      "|   Experiment | Input Size   | Model Activation Func.   |   Hidden Layer Size |   Batch Size |   Mean of the loss |   Accuracy |\n",
      "+==============+==============+==========================+=====================+==============+====================+============+\n",
      "|            1 | 256*256      | relu                     |                  32 |           64 |             4.025  |     0.1904 |\n",
      "+--------------+--------------+--------------------------+---------------------+--------------+--------------------+------------+\n",
      "|            2 | 256*256      | relu                     |                  32 |           32 |             8.58   |     0.24   |\n",
      "+--------------+--------------+--------------------------+---------------------+--------------+--------------------+------------+\n",
      "|            3 | 256*256      | sigmoid                  |                  32 |           64 |             1.7879 |     0.2067 |\n",
      "+--------------+--------------+--------------------------+---------------------+--------------+--------------------+------------+\n"
     ]
    }
   ],
   "source": [
    "from tabulate import tabulate\n",
    "\n",
    "table=[]\n",
    "table.append([1,'256*256',\"relu\",32,64,4.025,0.1904])\n",
    "table.append([2,'256*256',\"relu\",32,32,8.58,0.24])\n",
    "table.append([3,'256*256',\"sigmoid\",32,64,1.7879,0.2067])\n",
    "tablo = tabulate(table, headers=['Experiment', 'Input Size' , 'Model Activation Func.', 'Hidden Layer Size', \n",
    "                                 'Batch Size', 'Mean of the loss', 'Accuracy'], tablefmt='grid')\n",
    "print(tablo)"
   ]
  },
  {
   "cell_type": "code",
   "execution_count": 21,
   "id": "fb02230b-51ab-424a-876f-3510ae653c41",
   "metadata": {},
   "outputs": [],
   "source": [
    "table=[]"
   ]
  },
  {
   "cell_type": "markdown",
   "id": "4a4ec703-e353-4029-8c8f-ea4ae8c90b24",
   "metadata": {
    "jp-MarkdownHeadingCollapsed": true
   },
   "source": [
    "# Convolutional Neural Network that contains two convolutional layer and two fully connected layer"
   ]
  },
  {
   "cell_type": "code",
   "execution_count": 19,
   "id": "d4361636-e429-4ec4-bf3c-d61f99d7a083",
   "metadata": {},
   "outputs": [
    {
     "name": "stdout",
     "output_type": "stream",
     "text": [
      "WARNING:tensorflow:From C:\\Users\\90544\\anaconda3\\envs\\jupyterlab-\\Lib\\site-packages\\keras\\src\\backend.py:873: The name tf.get_default_graph is deprecated. Please use tf.compat.v1.get_default_graph instead.\n",
      "\n",
      "WARNING:tensorflow:From C:\\Users\\90544\\anaconda3\\envs\\jupyterlab-\\Lib\\site-packages\\keras\\src\\layers\\pooling\\max_pooling2d.py:161: The name tf.nn.max_pool is deprecated. Please use tf.nn.max_pool2d instead.\n",
      "\n",
      "WARNING:tensorflow:From C:\\Users\\90544\\anaconda3\\envs\\jupyterlab-\\Lib\\site-packages\\keras\\src\\optimizers\\__init__.py:309: The name tf.train.Optimizer is deprecated. Please use tf.compat.v1.train.Optimizer instead.\n",
      "\n",
      "Epoch 1/10\n",
      "WARNING:tensorflow:From C:\\Users\\90544\\anaconda3\\envs\\jupyterlab-\\Lib\\site-packages\\keras\\src\\utils\\tf_utils.py:492: The name tf.ragged.RaggedTensorValue is deprecated. Please use tf.compat.v1.ragged.RaggedTensorValue instead.\n",
      "\n",
      "WARNING:tensorflow:From C:\\Users\\90544\\anaconda3\\envs\\jupyterlab-\\Lib\\site-packages\\keras\\src\\engine\\base_layer_utils.py:384: The name tf.executing_eagerly_outside_functions is deprecated. Please use tf.compat.v1.executing_eagerly_outside_functions instead.\n",
      "\n",
      "150/150 [==============================] - 138s 895ms/step - loss: 1.8141 - accuracy: 0.2042\n",
      "Epoch 2/10\n",
      "150/150 [==============================] - 130s 870ms/step - loss: 1.7193 - accuracy: 0.2642\n",
      "Epoch 3/10\n",
      "150/150 [==============================] - 128s 856ms/step - loss: 1.6570 - accuracy: 0.3123\n",
      "Epoch 4/10\n",
      "150/150 [==============================] - 131s 876ms/step - loss: 1.5675 - accuracy: 0.3663\n",
      "Epoch 5/10\n",
      "150/150 [==============================] - 139s 926ms/step - loss: 1.4494 - accuracy: 0.4273\n",
      "Epoch 6/10\n",
      "150/150 [==============================] - 138s 921ms/step - loss: 1.3224 - accuracy: 0.4884\n",
      "Epoch 7/10\n",
      "150/150 [==============================] - 134s 894ms/step - loss: 1.1411 - accuracy: 0.5676\n",
      "Epoch 8/10\n",
      "150/150 [==============================] - 132s 877ms/step - loss: 0.9479 - accuracy: 0.6518\n",
      "Epoch 9/10\n",
      "150/150 [==============================] - 131s 870ms/step - loss: 0.7375 - accuracy: 0.7346\n",
      "Epoch 10/10\n",
      "150/150 [==============================] - 126s 838ms/step - loss: 0.4976 - accuracy: 0.8255\n"
     ]
    },
    {
     "ename": "NameError",
     "evalue": "name 'x_test_reshaped' is not defined",
     "output_type": "error",
     "traceback": [
      "\u001b[1;31m---------------------------------------------------------------------------\u001b[0m",
      "\u001b[1;31mNameError\u001b[0m                                 Traceback (most recent call last)",
      "Cell \u001b[1;32mIn[19], line 35\u001b[0m\n\u001b[0;32m     32\u001b[0m model\u001b[38;5;241m.\u001b[39mfit(x_train_reshaped, y, epochs\u001b[38;5;241m=\u001b[39m\u001b[38;5;241m10\u001b[39m, batch_size\u001b[38;5;241m=\u001b[39m\u001b[38;5;241m64\u001b[39m)\n\u001b[0;32m     34\u001b[0m \u001b[38;5;66;03m# Evaluate the model\u001b[39;00m\n\u001b[1;32m---> 35\u001b[0m test_loss, test_acc \u001b[38;5;241m=\u001b[39m model\u001b[38;5;241m.\u001b[39mevaluate(x_test_reshaped, y_test)\n\u001b[0;32m     36\u001b[0m \u001b[38;5;28mprint\u001b[39m(\u001b[38;5;124mf\u001b[39m\u001b[38;5;124m'\u001b[39m\u001b[38;5;124mTest accuracy: \u001b[39m\u001b[38;5;132;01m{\u001b[39;00mtest_acc\u001b[38;5;132;01m}\u001b[39;00m\u001b[38;5;124m'\u001b[39m)\n",
      "\u001b[1;31mNameError\u001b[0m: name 'x_test_reshaped' is not defined"
     ]
    }
   ],
   "source": [
    "import tensorflow as tf\n",
    "from tensorflow.keras import layers, models\n",
    "\n",
    "# Reshape the input data to 2D, assuming it's a grayscale image\n",
    "x_train_reshaped = x.reshape((x.shape[0], 256, 256, 1))\n",
    "\n",
    "# Define the model\n",
    "model = models.Sequential()\n",
    "\n",
    "# Convolutional layers\n",
    "model.add(layers.Conv2D(32, (3, 3), activation='relu', input_shape=(256, 256, 1)))\n",
    "model.add(layers.MaxPooling2D((2, 2)))\n",
    "model.add(layers.Conv2D(64, (3, 3), activation='relu'))\n",
    "model.add(layers.MaxPooling2D((2, 2)))\n",
    "\n",
    "# Flatten layer to transition from convolutional to fully connected layers\n",
    "model.add(layers.Flatten())\n",
    "\n",
    "# Fully connected layers\n",
    "model.add(layers.Dense(128, activation='relu'))\n",
    "model.add(layers.Dense(64, activation='relu'))\n",
    "\n",
    "# Output layer\n",
    "model.add(layers.Dense(6, activation='softmax'))\n",
    "\n",
    "# Compile the model\n",
    "model.compile(optimizer='adam',\n",
    "              loss='categorical_crossentropy',\n",
    "              metrics=['accuracy'])\n",
    "\n",
    "# Train the model\n",
    "model.fit(x_train_reshaped, y, epochs=10, batch_size=64)\n",
    "\n"
   ]
  },
  {
   "cell_type": "code",
   "execution_count": 20,
   "id": "7e81f8df-4382-483f-9848-aa91b0d8a147",
   "metadata": {},
   "outputs": [
    {
     "name": "stdout",
     "output_type": "stream",
     "text": [
      "75/75 [==============================] - 8s 97ms/step - loss: 2.5977 - accuracy: 0.3454\n",
      "Test accuracy: 0.3454166650772095\n"
     ]
    }
   ],
   "source": [
    "x_test_reshaped = x_test.reshape((2400, 256, 256, 1))\n",
    "# Evaluate the model\n",
    "test_loss, test_acc = model.evaluate(x_test_reshaped, y_test)\n",
    "print(f'Test accuracy: {test_acc}')\n"
   ]
  },
  {
   "cell_type": "markdown",
   "id": "3680f08c-9f56-4b87-a59c-b9314e674f9d",
   "metadata": {},
   "source": [
    "# Result of Convolutional Neural Network that contains one convolutional layer and one fully connected layer"
   ]
  },
  {
   "cell_type": "code",
   "execution_count": 22,
   "id": "940d3b65-35bb-4099-9ced-95d7235bed77",
   "metadata": {},
   "outputs": [
    {
     "name": "stdout",
     "output_type": "stream",
     "text": [
      "+--------------+--------------+--------------------------+---------------------+--------------+--------------------+------------+\n",
      "|   Experiment | Input Size   | Model Activation Func.   | Hidden Layer Size   |   Batch Size |   Mean of the loss |   Accuracy |\n",
      "+==============+==============+==========================+=====================+==============+====================+============+\n",
      "|            1 | 256*256      | relu                     | [128, 64]           |           64 |            2.59766 |   0.345417 |\n",
      "+--------------+--------------+--------------------------+---------------------+--------------+--------------------+------------+\n"
     ]
    }
   ],
   "source": [
    "table.append([1,'256*256',\"relu\",[128,64],64,test_loss,test_acc])\n",
    "tablo = tabulate(table, headers=['Experiment', 'Input Size' , 'Model Activation Func.', 'Hidden Layer Size', \n",
    "                                 'Batch Size', 'Mean of the loss', 'Accuracy'], tablefmt='grid')\n",
    "print(tablo)"
   ]
  },
  {
   "cell_type": "markdown",
   "id": "3e643ca0-8ecf-4209-8d58-2e620e79224b",
   "metadata": {},
   "source": [
    "# Report and Analyze"
   ]
  },
  {
   "cell_type": "markdown",
   "id": "c37c0aa8-7870-4696-8ae6-9b181ff842ec",
   "metadata": {},
   "source": [
    "-I download data set and replace age value with number.I load images from path and store in numpy array. \n",
    "\n",
    "-I did one hot encoding for y values which stores label data. I did same steps for test data.\n",
    "\n",
    "-Then I implement neural network which train model and calculate accuracy by using test data.\n",
    "\n",
    "-While implementing first I initialize paramters random (weight and biases).My input layer was 256*256 and I calculate hidden layers value for summing weights value for each input pixel and add bias.I implement backpropagation and forward functions.Also implement necessary parts.\n",
    "\n",
    "-Then I train model for no hidden layer , one hidden layer and two hidden layers.I change parameters and calculate accuracy and loss for each of them.Then I plot the table for each of them.\n",
    "\n",
    "-I did same step for CNN and I show the result by using table."
   ]
  },
  {
   "cell_type": "code",
   "execution_count": null,
   "id": "d57c23e1-4853-41c0-9615-abf05e679156",
   "metadata": {},
   "outputs": [],
   "source": []
  },
  {
   "cell_type": "markdown",
   "id": "9529ac00-3dce-4799-83a4-b9c15ec520d1",
   "metadata": {},
   "source": [
    "-I got the highest accuracy for CNN which is 34%\n",
    "\n",
    "-I got the minimum loss for mlp with two hidden layer.\n",
    "\n",
    "-Softmax activation function gives best accuracy for mlp.\n",
    "\n",
    "-If I increase batch size , test time decrease and I got better accuracy.\n",
    "\n",
    "-In my opininon if you care time you use mlp but for better accuracy cnn is better than mlp.\n",
    "\n",
    "-I think no hidden layer should be worst of them. Beceause using hidden layers is training the data and it should be give better result.\n",
    "\n"
   ]
  },
  {
   "cell_type": "markdown",
   "id": "b3c4a7bf-123c-4845-8a15-4cc85c8b4d1b",
   "metadata": {},
   "source": [
    "note:While I was trying CNN, the computer had a hard time and gave a host error. Jupyter kicked me out of the notebook. I didn't have time to run everything from the beginning, so I just ran the CNN part and added the results manually. There was no change in the results I got in the mlp part anyway. I couldn't do 10 experiments for CNN because I was afraid of the computer shutting down again."
   ]
  },
  {
   "cell_type": "code",
   "execution_count": null,
   "id": "39063626-cf79-4d3c-9636-a5d33a6b1e87",
   "metadata": {},
   "outputs": [],
   "source": []
  }
 ],
 "metadata": {
  "kernelspec": {
   "display_name": "Python 3 (ipykernel)",
   "language": "python",
   "name": "python3"
  },
  "language_info": {
   "codemirror_mode": {
    "name": "ipython",
    "version": 3
   },
   "file_extension": ".py",
   "mimetype": "text/x-python",
   "name": "python",
   "nbconvert_exporter": "python",
   "pygments_lexer": "ipython3",
   "version": "3.11.5"
  }
 },
 "nbformat": 4,
 "nbformat_minor": 5
}
